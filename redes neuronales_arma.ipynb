{
 "cells": [
  {
   "cell_type": "markdown",
   "metadata": {},
   "source": [
    "<img src=\"./Imagenes1/titulo.png\" >"
   ]
  },
  {
   "cell_type": "markdown",
   "metadata": {},
   "source": [
    "<img src=\"./Imagenes1/6.1.png\" >"
   ]
  },
  {
   "cell_type": "code",
   "execution_count": 1,
   "metadata": {},
   "outputs": [],
   "source": [
    "import pmdarima as pm\n",
    "import pandas as pd\n",
    "import numpy as np\n",
    "import matplotlib.pyplot as plt\n",
    "import os\n",
    "from datetime import datetime \n",
    "import statsmodels.api as sm\n",
    "from statsmodels.tsa.statespace.sarimax import SARIMAX\n",
    "import tensorflow as tf\n",
    "import keras\n",
    "from sklearn import preprocessing\n",
    "from sklearn.preprocessing import MinMaxScaler\n",
    "from sklearn.metrics import mean_absolute_error\n",
    "from keras.models import Sequential\n",
    "from keras.layers import Dense\n",
    "from keras.callbacks import EarlyStopping\n",
    "from keras.optimizers import Adam\n",
    "from keras.layers import LSTM\n",
    "from keras.layers import Dropout"
   ]
  },
  {
   "cell_type": "code",
   "execution_count": 2,
   "metadata": {},
   "outputs": [
    {
     "data": {
      "text/html": [
       "<div>\n",
       "<style scoped>\n",
       "    .dataframe tbody tr th:only-of-type {\n",
       "        vertical-align: middle;\n",
       "    }\n",
       "\n",
       "    .dataframe tbody tr th {\n",
       "        vertical-align: top;\n",
       "    }\n",
       "\n",
       "    .dataframe thead th {\n",
       "        text-align: right;\n",
       "    }\n",
       "</style>\n",
       "<table border=\"1\" class=\"dataframe\">\n",
       "  <thead>\n",
       "    <tr style=\"text-align: right;\">\n",
       "      <th></th>\n",
       "      <th>VALOR</th>\n",
       "      <th>UNIDAD</th>\n",
       "      <th>VIGENCIADESDE</th>\n",
       "      <th>VIGENCIAHASTA</th>\n",
       "    </tr>\n",
       "  </thead>\n",
       "  <tbody>\n",
       "    <tr>\n",
       "      <th>0</th>\n",
       "      <td>2,850.98</td>\n",
       "      <td>COP</td>\n",
       "      <td>09/10/2002</td>\n",
       "      <td>09/10/2002</td>\n",
       "    </tr>\n",
       "    <tr>\n",
       "      <th>1</th>\n",
       "      <td>2,854.04</td>\n",
       "      <td>COP</td>\n",
       "      <td>10/10/2002</td>\n",
       "      <td>10/10/2002</td>\n",
       "    </tr>\n",
       "    <tr>\n",
       "      <th>2</th>\n",
       "      <td>2,870.63</td>\n",
       "      <td>COP</td>\n",
       "      <td>11/10/2002</td>\n",
       "      <td>11/10/2002</td>\n",
       "    </tr>\n",
       "    <tr>\n",
       "      <th>3</th>\n",
       "      <td>2,861.16</td>\n",
       "      <td>COP</td>\n",
       "      <td>12/10/2002</td>\n",
       "      <td>15/10/2002</td>\n",
       "    </tr>\n",
       "    <tr>\n",
       "      <th>4</th>\n",
       "      <td>2,852.99</td>\n",
       "      <td>COP</td>\n",
       "      <td>16/10/2002</td>\n",
       "      <td>16/10/2002</td>\n",
       "    </tr>\n",
       "  </tbody>\n",
       "</table>\n",
       "</div>"
      ],
      "text/plain": [
       "      VALOR UNIDAD VIGENCIADESDE VIGENCIAHASTA\n",
       "0  2,850.98    COP    09/10/2002    09/10/2002\n",
       "1  2,854.04    COP    10/10/2002    10/10/2002\n",
       "2  2,870.63    COP    11/10/2002    11/10/2002\n",
       "3  2,861.16    COP    12/10/2002    15/10/2002\n",
       "4  2,852.99    COP    16/10/2002    16/10/2002"
      ]
     },
     "execution_count": 2,
     "metadata": {},
     "output_type": "execute_result"
    }
   ],
   "source": [
    "data = pd.read_csv(\"Tasa_de_Cambio_Representativa_del_Mercado-_TRM.csv\",sep= ',', decimal=\",\")\n",
    "data.head()"
   ]
  },
  {
   "cell_type": "code",
   "execution_count": 3,
   "metadata": {
    "scrolled": true
   },
   "outputs": [
    {
     "data": {
      "text/html": [
       "<div>\n",
       "<style scoped>\n",
       "    .dataframe tbody tr th:only-of-type {\n",
       "        vertical-align: middle;\n",
       "    }\n",
       "\n",
       "    .dataframe tbody tr th {\n",
       "        vertical-align: top;\n",
       "    }\n",
       "\n",
       "    .dataframe thead th {\n",
       "        text-align: right;\n",
       "    }\n",
       "</style>\n",
       "<table border=\"1\" class=\"dataframe\">\n",
       "  <thead>\n",
       "    <tr style=\"text-align: right;\">\n",
       "      <th></th>\n",
       "      <th>VALOR</th>\n",
       "      <th>UNIDAD</th>\n",
       "      <th>VIGENCIADESDE</th>\n",
       "      <th>VIGENCIAHASTA</th>\n",
       "    </tr>\n",
       "  </thead>\n",
       "  <tbody>\n",
       "    <tr>\n",
       "      <th>6963</th>\n",
       "      <td>3,763.82</td>\n",
       "      <td>COP</td>\n",
       "      <td>06/11/2020</td>\n",
       "      <td>06/11/2020</td>\n",
       "    </tr>\n",
       "    <tr>\n",
       "      <th>6964</th>\n",
       "      <td>3,738.19</td>\n",
       "      <td>COP</td>\n",
       "      <td>07/11/2020</td>\n",
       "      <td>09/11/2020</td>\n",
       "    </tr>\n",
       "    <tr>\n",
       "      <th>6965</th>\n",
       "      <td>3,646.15</td>\n",
       "      <td>COP</td>\n",
       "      <td>10/11/2020</td>\n",
       "      <td>10/11/2020</td>\n",
       "    </tr>\n",
       "    <tr>\n",
       "      <th>6966</th>\n",
       "      <td>3,650.50</td>\n",
       "      <td>COP</td>\n",
       "      <td>11/11/2020</td>\n",
       "      <td>12/11/2020</td>\n",
       "    </tr>\n",
       "    <tr>\n",
       "      <th>6967</th>\n",
       "      <td>3,646.22</td>\n",
       "      <td>COP</td>\n",
       "      <td>13/11/2020</td>\n",
       "      <td>13/11/2020</td>\n",
       "    </tr>\n",
       "  </tbody>\n",
       "</table>\n",
       "</div>"
      ],
      "text/plain": [
       "         VALOR UNIDAD VIGENCIADESDE VIGENCIAHASTA\n",
       "6963  3,763.82    COP    06/11/2020    06/11/2020\n",
       "6964  3,738.19    COP    07/11/2020    09/11/2020\n",
       "6965  3,646.15    COP    10/11/2020    10/11/2020\n",
       "6966  3,650.50    COP    11/11/2020    12/11/2020\n",
       "6967  3,646.22    COP    13/11/2020    13/11/2020"
      ]
     },
     "execution_count": 3,
     "metadata": {},
     "output_type": "execute_result"
    }
   ],
   "source": [
    "data.tail()"
   ]
  },
  {
   "cell_type": "markdown",
   "metadata": {},
   "source": [
    "### Organizando la data:"
   ]
  },
  {
   "cell_type": "code",
   "execution_count": 4,
   "metadata": {},
   "outputs": [
    {
     "data": {
      "text/html": [
       "<div>\n",
       "<style scoped>\n",
       "    .dataframe tbody tr th:only-of-type {\n",
       "        vertical-align: middle;\n",
       "    }\n",
       "\n",
       "    .dataframe tbody tr th {\n",
       "        vertical-align: top;\n",
       "    }\n",
       "\n",
       "    .dataframe thead th {\n",
       "        text-align: right;\n",
       "    }\n",
       "</style>\n",
       "<table border=\"1\" class=\"dataframe\">\n",
       "  <thead>\n",
       "    <tr style=\"text-align: right;\">\n",
       "      <th></th>\n",
       "      <th>VALOR</th>\n",
       "    </tr>\n",
       "    <tr>\n",
       "      <th>VIGENCIADESDE</th>\n",
       "      <th></th>\n",
       "    </tr>\n",
       "  </thead>\n",
       "  <tbody>\n",
       "    <tr>\n",
       "      <th>1991-12-31</th>\n",
       "      <td>632.37</td>\n",
       "    </tr>\n",
       "    <tr>\n",
       "      <th>1992-01-31</th>\n",
       "      <td>644.27</td>\n",
       "    </tr>\n",
       "    <tr>\n",
       "      <th>1992-02-29</th>\n",
       "      <td>636.54</td>\n",
       "    </tr>\n",
       "    <tr>\n",
       "      <th>1992-03-31</th>\n",
       "      <td>641.59</td>\n",
       "    </tr>\n",
       "    <tr>\n",
       "      <th>1992-04-30</th>\n",
       "      <td>653.83</td>\n",
       "    </tr>\n",
       "    <tr>\n",
       "      <th>...</th>\n",
       "      <td>...</td>\n",
       "    </tr>\n",
       "    <tr>\n",
       "      <th>2020-03-31</th>\n",
       "      <td>4064.81</td>\n",
       "    </tr>\n",
       "    <tr>\n",
       "      <th>2020-04-30</th>\n",
       "      <td>3983.29</td>\n",
       "    </tr>\n",
       "    <tr>\n",
       "      <th>2020-07-31</th>\n",
       "      <td>3739.49</td>\n",
       "    </tr>\n",
       "    <tr>\n",
       "      <th>2020-09-30</th>\n",
       "      <td>3878.94</td>\n",
       "    </tr>\n",
       "    <tr>\n",
       "      <th>2020-10-31</th>\n",
       "      <td>3858.56</td>\n",
       "    </tr>\n",
       "  </tbody>\n",
       "</table>\n",
       "<p>236 rows × 1 columns</p>\n",
       "</div>"
      ],
      "text/plain": [
       "                 VALOR\n",
       "VIGENCIADESDE         \n",
       "1991-12-31      632.37\n",
       "1992-01-31      644.27\n",
       "1992-02-29      636.54\n",
       "1992-03-31      641.59\n",
       "1992-04-30      653.83\n",
       "...                ...\n",
       "2020-03-31     4064.81\n",
       "2020-04-30     3983.29\n",
       "2020-07-31     3739.49\n",
       "2020-09-30     3878.94\n",
       "2020-10-31     3858.56\n",
       "\n",
       "[236 rows x 1 columns]"
      ]
     },
     "execution_count": 4,
     "metadata": {},
     "output_type": "execute_result"
    }
   ],
   "source": [
    "# se deja la fecha vigenciadesde desde para que los viernes tengan esa TRM del viernes.\n",
    "data.index = pd.to_datetime(data.VIGENCIADESDE) # volviendo el dato de fecha y dejandolo como el indice de la data\n",
    "data.drop(['VIGENCIADESDE','VIGENCIAHASTA','UNIDAD'], axis = 'columns', inplace=True) #eliminando las variables no relevantes\n",
    "data = data.sort_values(by=[\"VIGENCIADESDE\"]) # ordenando las fechas\n",
    "data = pd.DataFrame(data[data.index.is_month_end]) # filtrando la ultima fecha del mes \n",
    "data['VALOR'] = data['VALOR'].str.replace(\",\", \"\").astype(float) # para q pueda leer los numeros\n",
    "data # tenemos datos mensuales."
   ]
  },
  {
   "cell_type": "markdown",
   "metadata": {},
   "source": [
    "<img src=\"./Imagenes1/6.2.png\" >    "
   ]
  },
  {
   "cell_type": "markdown",
   "metadata": {},
   "source": [
    "* Separando la data sobre la que se identificara el modelo (Antes de 2018) : \n",
    "* Data de entrenamiento es data hasta 2017 :\n",
    "* Data de prueba sera el 2018. "
   ]
  },
  {
   "cell_type": "code",
   "execution_count": 5,
   "metadata": {
    "scrolled": true
   },
   "outputs": [
    {
     "data": {
      "text/plain": [
       "<Figure size 720x432 with 0 Axes>"
      ]
     },
     "metadata": {},
     "output_type": "display_data"
    },
    {
     "data": {
      "image/png": "[encoded data removed]",
      "text/plain": [
       "<Figure size 432x288 with 1 Axes>"
      ]
     },
     "metadata": {
      "needs_background": "light"
     },
     "output_type": "display_data"
    }
   ],
   "source": [
    "data_2018 = data[data.index.year <=  2018 ]\n",
    "train = data[data.index.year <=  2015 ]\n",
    "plt.figure(figsize=(10, 6))\n",
    "ax = data_2018.plot()\n",
    "train.plot(ax=ax)\n",
    "plt.legend(['test', 'train']);\n",
    "plt.show()"
   ]
  },
  {
   "cell_type": "markdown",
   "metadata": {},
   "source": [
    "### Estandanrizando los datos para que la red neuronal tenga convergencia:"
   ]
  },
  {
   "cell_type": "markdown",
   "metadata": {},
   "source": [
    "### Variables inputs de la red neuronal:"
   ]
  },
  {
   "cell_type": "code",
   "execution_count": 6,
   "metadata": {},
   "outputs": [],
   "source": [
    "#Feature of Univariate time series is y_{t-1} to predict output y_{t}\n",
    "trainS = preprocessing.scale(train.values.reshape(-1,1))\n",
    "validationS = preprocessing.scale(data_2018.values.reshape(-1,1))\n",
    "\n",
    "X1_train = trainS[2:-1] # y{t-1}\n",
    "X2_train = trainS[1:-2] # y{t-2}\n",
    "X3_train = trainS[0:-3] # y{t-3}\n",
    "\n",
    "y_train = trainS[3:]\n",
    "train_trm_1_2_3=np.concatenate((X1_train,X2_train,X3_train), axis=1)\n",
    "test_trm_1_2_3=np.concatenate((validationS[2:-1],validationS[1:-2],validationS[0:-3]), axis=1)\n",
    "#X_test = validationS[:-1]\n",
    "y_test = validationS[3:]"
   ]
  },
  {
   "cell_type": "code",
   "execution_count": 7,
   "metadata": {},
   "outputs": [],
   "source": [
    "def draw_neural_net(ax, left, right, bottom, top, layer_sizes):\n",
    "    '''\n",
    "    Draw a neural network cartoon using matplotilb.\n",
    "    \n",
    "    :usage:\n",
    "        >>> fig = plt.figure(figsize=(12, 12))\n",
    "        >>> draw_neural_net(fig.gca(), .1, .9, .1, .9, [4, 7, 2])\n",
    "    \n",
    "    :parameters:\n",
    "        - ax : matplotlib.axes.AxesSubplot\n",
    "            The axes on which to plot the cartoon (get e.g. by plt.gca())\n",
    "        - left : float\n",
    "            The center of the leftmost node(s) will be placed here\n",
    "        - right : float\n",
    "            The center of the rightmost node(s) will be placed here\n",
    "        - bottom : float\n",
    "            The center of the bottommost node(s) will be placed here\n",
    "        - top : float\n",
    "            The center of the topmost node(s) will be placed here\n",
    "        - layer_sizes : list of int\n",
    "            List of layer sizes, including input and output dimensionality\n",
    "    '''\n",
    "    n_layers = len(layer_sizes)\n",
    "    v_spacing = (top - bottom)/float(max(layer_sizes))\n",
    "    h_spacing = (right - left)/float(len(layer_sizes) - 1)\n",
    "    # Nodes\n",
    "    for n, layer_size in enumerate(layer_sizes):\n",
    "        layer_top = v_spacing*(layer_size - 1)/2. + (top + bottom)/2.\n",
    "        for m in range(layer_size):\n",
    "            circle = plt.Circle((n*h_spacing + left, layer_top - m*v_spacing), v_spacing/4.,\n",
    "                                color='w', ec='k', zorder=4)\n",
    "            ax.add_artist(circle)\n",
    "    # Edges\n",
    "    for n, (layer_size_a, layer_size_b) in enumerate(zip(layer_sizes[:-1], layer_sizes[1:])):\n",
    "        layer_top_a = v_spacing*(layer_size_a - 1)/2. + (top + bottom)/2.\n",
    "        layer_top_b = v_spacing*(layer_size_b - 1)/2. + (top + bottom)/2.\n",
    "        for m in range(layer_size_a):\n",
    "            for o in range(layer_size_b):\n",
    "                line = plt.Line2D([n*h_spacing + left, (n + 1)*h_spacing + left],\n",
    "                                  [layer_top_a - m*v_spacing, layer_top_b - o*v_spacing], c='k')\n",
    "                ax.add_artist(line)\n"
   ]
  },
  {
   "cell_type": "code",
   "execution_count": 8,
   "metadata": {},
   "outputs": [
    {
     "data": {
      "image/png": "[encoded data removed]",
      "text/plain": [
       "<Figure size 864x864 with 1 Axes>"
      ]
     },
     "metadata": {
      "needs_background": "light"
     },
     "output_type": "display_data"
    }
   ],
   "source": [
    "fig = plt.figure(figsize=(12, 12))\n",
    "ax = fig.gca()\n",
    "ax.axis('off')\n",
    "draw_neural_net(ax, .1, .9, .1, .9, [3,1, 1])\n",
    "fig.savefig('nn.png')"
   ]
  },
  {
   "cell_type": "code",
   "execution_count": 9,
   "metadata": {},
   "outputs": [],
   "source": [
    "tf.keras.backend.clear_session() \n",
    "tf.random.set_seed(51)\n",
    "np.random.seed(51)\n",
    "\n",
    "model = Sequential()\n",
    "model.add(Dense(1, input_dim=3, activation='relu'))\n",
    "model.add(Dense(1,activation='linear'))\n",
    "model.compile(loss='mse', optimizer = \"adam\")\n"
   ]
  },
  {
   "cell_type": "code",
   "execution_count": 10,
   "metadata": {},
   "outputs": [
    {
     "name": "stdout",
     "output_type": "stream",
     "text": [
      "Model: \"sequential\"\n",
      "_________________________________________________________________\n",
      "Layer (type)                 Output Shape              Param #   \n",
      "=================================================================\n",
      "dense (Dense)                (None, 1)                 4         \n",
      "_________________________________________________________________\n",
      "dense_1 (Dense)              (None, 1)                 2         \n",
      "=================================================================\n",
      "Total params: 6\n",
      "Trainable params: 6\n",
      "Non-trainable params: 0\n",
      "_________________________________________________________________\n"
     ]
    }
   ],
   "source": [
    "model.summary()"
   ]
  },
  {
   "cell_type": "code",
   "execution_count": 11,
   "metadata": {},
   "outputs": [
    {
     "data": {
      "text/plain": [
       "Text(0.5, 0, 'EPOCHS ó CICLOS')"
      ]
     },
     "execution_count": 11,
     "metadata": {},
     "output_type": "execute_result"
    },
    {
     "data": {
      "image/png": "[encoded data removed]",
      "text/plain": [
       "<Figure size 432x288 with 1 Axes>"
      ]
     },
     "metadata": {
      "needs_background": "light"
     },
     "output_type": "display_data"
    }
   ],
   "source": [
    "history = model.fit(train_trm_1_2_3, y_train,epochs =400, verbose=0)\n",
    "plt.plot(range(400), history.history['loss'], label = 'mse') # conforme se repite el entrenamiento ent disminuye el error\n",
    "plt.legend()\n",
    "plt.ylabel(\"LOSS VALUE\")\n",
    "plt.xlabel(\"EPOCHS ó CICLOS\")"
   ]
  },
  {
   "cell_type": "code",
   "execution_count": 12,
   "metadata": {},
   "outputs": [
    {
     "name": "stdout",
     "output_type": "stream",
     "text": [
      "Layer wights [array([[ 0.7493912 ],\n",
      "       [-0.22080009],\n",
      "       [ 0.17495786]], dtype=float32), array([0.9783395], dtype=float32), array([[1.4064943]], dtype=float32), array([-1.3444629], dtype=float32)]\n"
     ]
    }
   ],
   "source": [
    "print('Layer wights {}'.format(model.get_weights()))"
   ]
  },
  {
   "cell_type": "code",
   "execution_count": 13,
   "metadata": {},
   "outputs": [],
   "source": [
    "forecast = model.predict(test_trm_1_2_3)\n",
    "forecast_tr = forecast[ : train.shape[0]]  # train\n",
    "forecast_te = forecast[ -(data_2018.shape[0] - train.shape[0]): ] # test"
   ]
  },
  {
   "cell_type": "code",
   "execution_count": 14,
   "metadata": {},
   "outputs": [
    {
     "data": {
      "image/png": "[encoded data removed]",
      "text/plain": [
       "<Figure size 432x288 with 1 Axes>"
      ]
     },
     "metadata": {
      "needs_background": "light"
     },
     "output_type": "display_data"
    },
    {
     "data": {
      "image/png": "[encoded data removed]",
      "text/plain": [
       "<Figure size 432x288 with 1 Axes>"
      ]
     },
     "metadata": {
      "needs_background": "light"
     },
     "output_type": "display_data"
    }
   ],
   "source": [
    "plt.plot(data_2018.index[3:],y_test, c = 'black', label = 'real')\n",
    "plt.plot(data_2018.index[-(data_2018.shape[0] - train.shape[0]):],forecast_te, c = 'blue', label = 'forecast validation')\n",
    "plt.plot(data_2018.index[:train.shape[0]],forecast_tr, c = 'red',label = 'forecast train')\n",
    "plt.legend()\n",
    "plt.plot()\n",
    "plt.show()\n",
    "\n",
    "plt.plot(data_2018.index[-(data_2018.shape[0] - train.shape[0]):],y_test[-(data_2018.shape[0] - train.shape[0]):], c = 'black', label = 'real')\n",
    "plt.plot(data_2018.index[-(data_2018.shape[0] - train.shape[0]):],forecast_te, c = 'red', label = 'forecast validation')\n",
    "plt.legend()\n",
    "plt.plot()\n",
    "plt.show()"
   ]
  },
  {
   "cell_type": "code",
   "execution_count": 15,
   "metadata": {
    "scrolled": true
   },
   "outputs": [
    {
     "name": "stdout",
     "output_type": "stream",
     "text": [
      " La correlacion en la fase de entrenamiento es:  0.9841272340424579\n",
      " La correlacion en la fase de validacion es:  0.3970340061428204\n"
     ]
    }
   ],
   "source": [
    "print(' La correlacion en la fase de entrenamiento es: ',pd.DataFrame(forecast_tr,  columns = ['x']).x.corr(pd.DataFrame(y_test[:  train.shape[0]],  columns = ['x']).x))\n",
    "print(' La correlacion en la fase de validacion es: ',pd.DataFrame(forecast_te,  columns = ['x']).x.corr(pd.DataFrame(y_test[-(data_2018.shape[0] - train.shape[0]):],  columns = ['x']).x))"
   ]
  },
  {
   "cell_type": "code",
   "execution_count": 16,
   "metadata": {},
   "outputs": [
    {
     "name": "stdout",
     "output_type": "stream",
     "text": [
      " El MAE es:  0.12735050786927393\n",
      " El MAE es:  0.12661592437672356\n"
     ]
    }
   ],
   "source": [
    "print(' El MAE es: ',mean_absolute_error(y_test[:  train.shape[0]],forecast_tr))\n",
    "print(' El MAE es: ',mean_absolute_error(y_test[-(data_2018.shape[0] - train.shape[0]):],forecast_te))"
   ]
  },
  {
   "cell_type": "markdown",
   "metadata": {},
   "source": [
    "### Red neuronal compleja :"
   ]
  },
  {
   "cell_type": "code",
   "execution_count": 17,
   "metadata": {},
   "outputs": [
    {
     "data": {
      "text/plain": [
       "[0, 1, 2, 3, 4, 5, 6, 7, 8, 9, 10, 11, 12, 13, 14, 15]"
      ]
     },
     "execution_count": 17,
     "metadata": {},
     "output_type": "execute_result"
    }
   ],
   "source": [
    "def convertToMatrix(data, step): # es equivalente al codigo anterior pero automatizado\n",
    "     X, Y =[], []\n",
    "     for i in range(len(data)-step):\n",
    "          d = i+step  \n",
    "          X.append(data[i:d,])\n",
    "          Y.append(data[d,])\n",
    "     return np.array(X), np.array(Y)\n",
    "\n",
    "lista = list(range(16))\n",
    "lista"
   ]
  },
  {
   "cell_type": "code",
   "execution_count": 18,
   "metadata": {},
   "outputs": [
    {
     "data": {
      "text/plain": [
       "(array([[ 0,  1,  2],\n",
       "        [ 1,  2,  3],\n",
       "        [ 2,  3,  4],\n",
       "        [ 3,  4,  5],\n",
       "        [ 4,  5,  6],\n",
       "        [ 5,  6,  7],\n",
       "        [ 6,  7,  8],\n",
       "        [ 7,  8,  9],\n",
       "        [ 8,  9, 10],\n",
       "        [ 9, 10, 11],\n",
       "        [10, 11, 12],\n",
       "        [11, 12, 13],\n",
       "        [12, 13, 14]]),\n",
       " array([ 3,  4,  5,  6,  7,  8,  9, 10, 11, 12, 13, 14, 15]))"
      ]
     },
     "execution_count": 18,
     "metadata": {},
     "output_type": "execute_result"
    }
   ],
   "source": [
    "convertToMatrix(np.array(lista), 3) # matriz de inputs | vector de output"
   ]
  },
  {
   "cell_type": "code",
   "execution_count": 19,
   "metadata": {},
   "outputs": [],
   "source": [
    "train_trm_12 = []\n",
    "test_trm_12 = []\n",
    "for i in trainS:\n",
    "    train_trm_12.append(i.mean())\n",
    "\n",
    "for i in validationS:\n",
    "    test_trm_12.append(i.mean())\n",
    "train_trm_12, y_train  = convertToMatrix(np.array(train_trm_12), 12)\n",
    "test_trm_12, y_test = convertToMatrix(np.array(test_trm_12), 12)"
   ]
  },
  {
   "cell_type": "code",
   "execution_count": 20,
   "metadata": {
    "scrolled": true
   },
   "outputs": [],
   "source": [
    "tf.keras.backend.clear_session() \n",
    "tf.random.set_seed(51)\n",
    "np.random.seed(51)\n",
    "\n",
    "model_1 = Sequential()\n",
    "model_1.add(Dense(750, input_dim=12, activation='elu'))\n",
    "model_1.add(Dropout(0.2))\n",
    "model_1.add(Dense(500, activation='elu'))\n",
    "model_1.add(Dropout(0.2))\n",
    "model_1.add(Dense(250, activation='elu'))\n",
    "model_1.add(Dropout(0.2))\n",
    "model_1.add(Dense(1,activation='linear'))\n",
    "model_1.compile(loss='mse', optimizer = \"adam\")\n"
   ]
  },
  {
   "cell_type": "code",
   "execution_count": 21,
   "metadata": {},
   "outputs": [
    {
     "name": "stdout",
     "output_type": "stream",
     "text": [
      "Model: \"sequential\"\n",
      "_________________________________________________________________\n",
      "Layer (type)                 Output Shape              Param #   \n",
      "=================================================================\n",
      "dense (Dense)                (None, 750)               9750      \n",
      "_________________________________________________________________\n",
      "dropout (Dropout)            (None, 750)               0         \n",
      "_________________________________________________________________\n",
      "dense_1 (Dense)              (None, 500)               375500    \n",
      "_________________________________________________________________\n",
      "dropout_1 (Dropout)          (None, 500)               0         \n",
      "_________________________________________________________________\n",
      "dense_2 (Dense)              (None, 250)               125250    \n",
      "_________________________________________________________________\n",
      "dropout_2 (Dropout)          (None, 250)               0         \n",
      "_________________________________________________________________\n",
      "dense_3 (Dense)              (None, 1)                 251       \n",
      "=================================================================\n",
      "Total params: 510,751\n",
      "Trainable params: 510,751\n",
      "Non-trainable params: 0\n",
      "_________________________________________________________________\n"
     ]
    }
   ],
   "source": [
    "model_1.summary()"
   ]
  },
  {
   "cell_type": "code",
   "execution_count": 22,
   "metadata": {},
   "outputs": [],
   "source": [
    "history = model_1.fit(train_trm_12, y_train,epochs =400, verbose=0)"
   ]
  },
  {
   "cell_type": "code",
   "execution_count": 23,
   "metadata": {},
   "outputs": [
    {
     "data": {
      "text/plain": [
       "Text(0.5, 0, 'EPOCHS ó CICLOS')"
      ]
     },
     "execution_count": 23,
     "metadata": {},
     "output_type": "execute_result"
    },
    {
     "data": {
      "image/png": "[encoded data removed]",
      "text/plain": [
       "<Figure size 432x288 with 1 Axes>"
      ]
     },
     "metadata": {
      "needs_background": "light"
     },
     "output_type": "display_data"
    }
   ],
   "source": [
    "plt.plot(range(400), history.history['loss'], label = 'mse') # conforme se repite el entrenamiento ent disminuye el error\n",
    "plt.legend()\n",
    "plt.ylabel(\"LOSS VALUE\")\n",
    "plt.xlabel(\"EPOCHS ó CICLOS\")"
   ]
  },
  {
   "cell_type": "code",
   "execution_count": 24,
   "metadata": {},
   "outputs": [],
   "source": [
    "y_test = validationS[12:] # 12 neuronas de entrada ó rezago\n",
    "forecast_12 = model_1.predict(test_trm_12)\n",
    "forecast_tr_12 = forecast_12[ : -(data_2018.shape[0] - train.shape[0])]  # train\n",
    "forecast_te_12 = forecast_12[ -(data_2018.shape[0] - train.shape[0]): ] # test"
   ]
  },
  {
   "cell_type": "code",
   "execution_count": 25,
   "metadata": {},
   "outputs": [
    {
     "data": {
      "image/png": "[encoded data removed]",
      "text/plain": [
       "<Figure size 432x288 with 1 Axes>"
      ]
     },
     "metadata": {
      "needs_background": "light"
     },
     "output_type": "display_data"
    },
    {
     "data": {
      "image/png": "[encoded data removed]",
      "text/plain": [
       "<Figure size 432x288 with 1 Axes>"
      ]
     },
     "metadata": {
      "needs_background": "light"
     },
     "output_type": "display_data"
    }
   ],
   "source": [
    "plt.plot(data_2018.index[12:],y_test, c = 'black', label = 'real')\n",
    "plt.plot(data_2018.index[-(data_2018.shape[0] - train.shape[0]):],forecast_te_12, c = 'blue', label = 'forecast validation')\n",
    "plt.plot(train.index[12:],forecast_tr_12, c = 'red',label = 'forecast train')\n",
    "plt.legend()\n",
    "plt.plot()\n",
    "plt.show()\n",
    "\n",
    "plt.plot(data_2018.index[-(data_2018.shape[0] - train.shape[0]):],y_test[-(data_2018.shape[0] - train.shape[0]):], c = 'black', label = 'real')\n",
    "plt.plot(data_2018.index[-(data_2018.shape[0] - train.shape[0]):],forecast_te_12, c = 'red', label = 'forecast validation')\n",
    "plt.legend()\n",
    "plt.plot()\n",
    "plt.show()"
   ]
  },
  {
   "cell_type": "code",
   "execution_count": 26,
   "metadata": {},
   "outputs": [
    {
     "name": "stdout",
     "output_type": "stream",
     "text": [
      " La correlacion en la fase de entrenamiento es:  0.990056481420554\n",
      " La correlacion en la fase de validacion es:  0.4738164997815194\n"
     ]
    }
   ],
   "source": [
    "print(' La correlacion en la fase de entrenamiento es: ',pd.DataFrame(forecast_tr_12,  columns = ['x']).x.corr(pd.DataFrame(y_test[:  train.shape[0]],  columns = ['x']).x))\n",
    "print(' La correlacion en la fase de validacion es: ',pd.DataFrame(forecast_te_12,  columns = ['x']).x.corr(pd.DataFrame(y_test[-(data_2018.shape[0] - train.shape[0]):],  columns = ['x']).x))"
   ]
  },
  {
   "cell_type": "code",
   "execution_count": 27,
   "metadata": {},
   "outputs": [
    {
     "name": "stdout",
     "output_type": "stream",
     "text": [
      " El MAE de entrenamiento es:  0.4675583106750303\n",
      " El MAE de validacion es:  0.12631845162405694\n"
     ]
    }
   ],
   "source": [
    "print(' El MAE de entrenamiento es: ',mean_absolute_error(y_test[12:  train.shape[0]],forecast_tr_12))\n",
    "print(' El MAE de validacion es: ',mean_absolute_error(y_test[-(data_2018.shape[0] - train.shape[0]):],forecast_te_12))"
   ]
  },
  {
   "cell_type": "markdown",
   "metadata": {},
   "source": [
    "<img src=\"./Imagenes1/6.3.png\" >"
   ]
  },
  {
   "cell_type": "code",
   "execution_count": 28,
   "metadata": {},
   "outputs": [
    {
     "data": {
      "text/plain": [
       "<matplotlib.axes._subplots.AxesSubplot at 0x205c1d07808>"
      ]
     },
     "execution_count": 28,
     "metadata": {},
     "output_type": "execute_result"
    },
    {
     "data": {
      "image/png": "[encoded data removed]",
      "text/plain": [
       "<Figure size 432x288 with 1 Axes>"
      ]
     },
     "metadata": {
      "needs_background": "light"
     },
     "output_type": "display_data"
    }
   ],
   "source": [
    "sept_2019 = datetime(2019,10,1)  # un dia despues al ultimo dia del mes de septiembre (para incluir septiembre).\n",
    "test = data[data.index < sept_2019]\n",
    "test.tail(7).plot()"
   ]
  },
  {
   "cell_type": "markdown",
   "metadata": {},
   "source": [
    "### Ajustando los inputs para los 2 modelos de redes neuronales en la fase de prueba:"
   ]
  },
  {
   "cell_type": "code",
   "execution_count": 29,
   "metadata": {},
   "outputs": [],
   "source": [
    "# Ajuste de inputs para modelo simple:\n",
    "testS = preprocessing.scale(test.values.reshape(-1,1))\n",
    "\n",
    "\n",
    "X1_test = testS[2:-1] # y{t-1}\n",
    "X2_test = testS[1:-2] # y{t-2}\n",
    "X3_test = testS[0:-3] # y{t-3}\n",
    "\n",
    "y_test = testS[3:]\n",
    "test_trm_3=np.concatenate((X1_test,X2_test,X3_test), axis=1)"
   ]
  },
  {
   "cell_type": "code",
   "execution_count": 30,
   "metadata": {},
   "outputs": [],
   "source": [
    "# Ajuste de inputs para modelo complejo:\n",
    "testeo = []\n",
    "for i in testS:\n",
    "    testeo.append(i.mean())\n",
    "\n",
    "    \n",
    "test_trm_12, y_test1  = convertToMatrix(np.array(testeo), 12)"
   ]
  },
  {
   "cell_type": "code",
   "execution_count": 31,
   "metadata": {},
   "outputs": [],
   "source": [
    "forecast_test_3 = model.predict(test_trm_3) # pronostico modelo 1 ( red simple)\n",
    "forecast_test_12 = model_1.predict(test_trm_12) # pronostico modelo 2 ( red compleja)"
   ]
  },
  {
   "cell_type": "code",
   "execution_count": 32,
   "metadata": {},
   "outputs": [],
   "source": [
    "forecast_test_3 = forecast_test_3[-9:] # los ultimos 9 meses de la data = enero y sep de 2019\n",
    "forecast_test_12 = forecast_test_12[-9:] # los ultimos 9 meses de la data = enero y sep de 2019\n",
    "y_real = testeo[-9:] # dato real"
   ]
  },
  {
   "cell_type": "markdown",
   "metadata": {},
   "source": [
    "### Proceso inverso a la estandarizacion:"
   ]
  },
  {
   "cell_type": "code",
   "execution_count": 33,
   "metadata": {},
   "outputs": [],
   "source": [
    "def des_estandarizacion(data, mu, std):\n",
    "    forecast = []\n",
    "    for i in range(len(data)):\n",
    "        forecast.append(float(data[i])* std + mu)\n",
    "    return(forecast)\n",
    "\n",
    "forecast_3 = des_estandarizacion(forecast_test_3, test.values.mean(),test.values.std())\n",
    "forecast_12 = des_estandarizacion(forecast_test_12, test.values.mean(),test.values.std()) "
   ]
  },
  {
   "cell_type": "code",
   "execution_count": 34,
   "metadata": {},
   "outputs": [],
   "source": [
    "def RMSE(real, forecast):\n",
    "    metrica = 0\n",
    "    for i in range(len(real)):\n",
    "        metrica = metrica + (real[i] - forecast[i])**2 \n",
    "    metrica = metrica/len(real)\n",
    "    metrica = np.sqrt(metrica)\n",
    "    \n",
    "    return(round(metrica,5))\n",
    "\n",
    "def MAE(real, forecast):\n",
    "    metrica = 0\n",
    "    for i in range(len(real)):\n",
    "        metrica = metrica + np.abs(real[i] - forecast[i])\n",
    "    metrica = metrica/len(real)   \n",
    "    return(round(metrica,5))"
   ]
  },
  {
   "cell_type": "code",
   "execution_count": 35,
   "metadata": {},
   "outputs": [
    {
     "name": "stdout",
     "output_type": "stream",
     "text": [
      "El RMSE de la red neuronal sencilla:  109.21158\n",
      "El RMSE de la red compleja:  116.62181\n"
     ]
    }
   ],
   "source": [
    "print('El RMSE de la red neuronal sencilla: ',RMSE(test.VALOR.values[-9:], forecast_3))\n",
    "print('El RMSE de la red compleja: ',RMSE(test.VALOR.values[-9:], forecast_12))"
   ]
  },
  {
   "cell_type": "code",
   "execution_count": 36,
   "metadata": {
    "scrolled": true
   },
   "outputs": [
    {
     "name": "stdout",
     "output_type": "stream",
     "text": [
      " El MAE de la red sencilla:  98.19606386015296\n",
      " El MAE de la red compleja:  102.22167026021735\n"
     ]
    }
   ],
   "source": [
    "print(' El MAE de la red sencilla: ',mean_absolute_error(test.VALOR.values[-9:],forecast_3))\n",
    "print(' El MAE de la red compleja: ',mean_absolute_error(test.VALOR.values[-9:],forecast_12))"
   ]
  },
  {
   "cell_type": "code",
   "execution_count": 37,
   "metadata": {},
   "outputs": [
    {
     "name": "stdout",
     "output_type": "stream",
     "text": [
      " La correlacion de la red sencilla es:  0.7478311789784428\n",
      " La correlacion de la red compleja es:  0.7621214005592208\n"
     ]
    }
   ],
   "source": [
    "print(' La correlacion de la red sencilla es: ',pd.DataFrame(forecast_3,  columns = ['x']).x.corr(pd.DataFrame(np.array(test.VALOR.values[-9:]),  columns = ['x']).x))\n",
    "print(' La correlacion de la red compleja es: ',pd.DataFrame(forecast_12,  columns = ['x']).x.corr(pd.DataFrame(np.array(test.VALOR.values[-9:]),  columns = ['x']).x))"
   ]
  },
  {
   "cell_type": "code",
   "execution_count": 38,
   "metadata": {},
   "outputs": [
    {
     "data": {
      "image/png": "[encoded data removed]",
      "text/plain": [
       "<Figure size 432x288 with 1 Axes>"
      ]
     },
     "metadata": {
      "needs_background": "light"
     },
     "output_type": "display_data"
    }
   ],
   "source": [
    "plt.plot(test.index[-9:],forecast_3,label ='red simple', c='red')\n",
    "plt.plot(test.index[-9:],forecast_12, label ='red compleja',c='blue')\n",
    "plt.plot(test.index[-9:],test.VALOR.values[-9:],label ='real',c='black' )\n",
    "plt.legend()\n",
    "plt.show()"
   ]
  },
  {
   "cell_type": "markdown",
   "metadata": {},
   "source": [
    "<img src=\"./Imagenes1/6.4.png\" >"
   ]
  },
  {
   "cell_type": "code",
   "execution_count": 39,
   "metadata": {},
   "outputs": [],
   "source": [
    "train = data[data.index.year <=  2018 ]  \n",
    "train = train.diff().dropna()"
   ]
  },
  {
   "cell_type": "markdown",
   "metadata": {},
   "source": [
    "### Modelo 1:"
   ]
  },
  {
   "cell_type": "code",
   "execution_count": 40,
   "metadata": {},
   "outputs": [],
   "source": [
    "information_criterion='aic'"
   ]
  },
  {
   "cell_type": "code",
   "execution_count": 41,
   "metadata": {
    "scrolled": true
   },
   "outputs": [
    {
     "name": "stdout",
     "output_type": "stream",
     "text": [
      "Performing stepwise search to minimize aic\n",
      " ARIMA(0,0,0)(0,0,0)[0]             : AIC=2633.208, Time=0.02 sec\n",
      " ARIMA(1,0,0)(0,0,0)[0]             : AIC=inf, Time=nan sec\n",
      " ARIMA(0,0,1)(0,0,0)[0]             : AIC=2634.539, Time=0.03 sec\n",
      " ARIMA(1,0,1)(0,0,0)[0]             : AIC=2631.642, Time=0.06 sec\n",
      " ARIMA(2,0,1)(0,0,0)[0]             : AIC=2633.638, Time=0.13 sec\n",
      " ARIMA(1,0,2)(0,0,0)[0]             : AIC=2633.639, Time=0.17 sec\n",
      " ARIMA(0,0,2)(0,0,0)[0]             : AIC=2636.224, Time=0.04 sec\n",
      " ARIMA(2,0,0)(0,0,0)[0]             : AIC=2636.405, Time=0.05 sec\n",
      " ARIMA(2,0,2)(0,0,0)[0]             : AIC=2634.616, Time=0.18 sec\n",
      " ARIMA(1,0,1)(0,0,0)[0] intercept   : AIC=2630.573, Time=0.18 sec\n",
      " ARIMA(0,0,1)(0,0,0)[0] intercept   : AIC=2633.597, Time=0.06 sec\n",
      " ARIMA(1,0,0)(0,0,0)[0] intercept   : AIC=2633.631, Time=0.02 sec\n",
      " ARIMA(2,0,1)(0,0,0)[0] intercept   : AIC=2632.552, Time=0.40 sec\n",
      " ARIMA(1,0,2)(0,0,0)[0] intercept   : AIC=2632.553, Time=0.36 sec\n",
      " ARIMA(0,0,0)(0,0,0)[0] intercept   : AIC=2631.973, Time=0.01 sec\n",
      " ARIMA(0,0,2)(0,0,0)[0] intercept   : AIC=2635.029, Time=0.13 sec\n",
      " ARIMA(2,0,0)(0,0,0)[0] intercept   : AIC=2635.256, Time=0.12 sec\n",
      " ARIMA(2,0,2)(0,0,0)[0] intercept   : AIC=2634.565, Time=0.32 sec\n",
      "\n",
      "Best model:  ARIMA(1,0,1)(0,0,0)[0] intercept\n",
      "Total fit time: 2.291 seconds\n"
     ]
    }
   ],
   "source": [
    "modelo1 = pm.auto_arima(train, \n",
    "                      # la serie es ciclica:\n",
    "                      seasonal=False, m=0, # no tiene ciclo la serie \n",
    "                      # sabemos por dicky fuller que:\n",
    "                      d=0, D=0, # No diferencio el arima (d=9)  y diferencio el Sarima (D=1)!\n",
    "                      # loop del arima(p,0,q):\n",
    "                      start_p = 0, start_q=0,\n",
    "                      max_p=12, max_q=12,\n",
    "                      trace=True, # imprima el loop\n",
    "                      information_criterion = information_criterion, # le creo mas al bic que al aic\n",
    "                      error_action='ignore', # si no se pudo correr un modelo siga\n",
    "                      stepwise = True, # haga el loop inteligentemente\n",
    "                      suppress_warnings=True) "
   ]
  },
  {
   "cell_type": "code",
   "execution_count": 42,
   "metadata": {},
   "outputs": [
    {
     "name": "stdout",
     "output_type": "stream",
     "text": [
      "                               SARIMAX Results                                \n",
      "==============================================================================\n",
      "Dep. Variable:                      y   No. Observations:                  219\n",
      "Model:               SARIMAX(1, 0, 1)   Log Likelihood               -1311.287\n",
      "Date:                Sun, 06 Dec 2020   AIC                           2630.573\n",
      "Time:                        17:33:14   BIC                           2644.130\n",
      "Sample:                             0   HQIC                          2636.048\n",
      "                                - 219                                         \n",
      "Covariance Type:                  opg                                         \n",
      "==============================================================================\n",
      "                 coef    std err          z      P>|z|      [0.025      0.975]\n",
      "------------------------------------------------------------------------------\n",
      "intercept     22.4616     13.535      1.660      0.097      -4.066      48.989\n",
      "ar.L1         -0.8884      0.072    -12.418      0.000      -1.029      -0.748\n",
      "ma.L1          0.9615      0.050     19.399      0.000       0.864       1.059\n",
      "sigma2      9282.8310    523.817     17.722      0.000    8256.169    1.03e+04\n",
      "===================================================================================\n",
      "Ljung-Box (Q):                       38.55   Jarque-Bera (JB):               209.64\n",
      "Prob(Q):                              0.54   Prob(JB):                         0.00\n",
      "Heteroskedasticity (H):               6.97   Skew:                             0.84\n",
      "Prob(H) (two-sided):                  0.00   Kurtosis:                         7.49\n",
      "===================================================================================\n",
      "\n",
      "Warnings:\n",
      "[1] Covariance matrix calculated using the outer product of gradients (complex-step).\n"
     ]
    }
   ],
   "source": [
    "print(modelo1.summary())"
   ]
  },
  {
   "cell_type": "markdown",
   "metadata": {},
   "source": [
    "### Modelo 2:\n",
    "* MA(1)"
   ]
  },
  {
   "cell_type": "code",
   "execution_count": 43,
   "metadata": {
    "scrolled": false
   },
   "outputs": [
    {
     "name": "stderr",
     "output_type": "stream",
     "text": [
      "C:\\Users\\Oscar .LAPTOP-UUDRGSUV\\Anaconda3\\lib\\site-packages\\statsmodels\\tsa\\base\\tsa_model.py:218: ValueWarning: A date index has been provided, but it has no associated frequency information and so will be ignored when e.g. forecasting.\n",
      "  ' ignored when e.g. forecasting.', ValueWarning)\n",
      "C:\\Users\\Oscar .LAPTOP-UUDRGSUV\\Anaconda3\\lib\\site-packages\\statsmodels\\tsa\\base\\tsa_model.py:218: ValueWarning: A date index has been provided, but it has no associated frequency information and so will be ignored when e.g. forecasting.\n",
      "  ' ignored when e.g. forecasting.', ValueWarning)\n"
     ]
    }
   ],
   "source": [
    "modelo2 = SARIMAX(train, order = (0,0,1)).fit()"
   ]
  },
  {
   "cell_type": "markdown",
   "metadata": {},
   "source": [
    "### Modelo3:\n",
    "* AR(2)"
   ]
  },
  {
   "cell_type": "code",
   "execution_count": 44,
   "metadata": {},
   "outputs": [
    {
     "name": "stderr",
     "output_type": "stream",
     "text": [
      "C:\\Users\\Oscar .LAPTOP-UUDRGSUV\\Anaconda3\\lib\\site-packages\\statsmodels\\tsa\\base\\tsa_model.py:218: ValueWarning: A date index has been provided, but it has no associated frequency information and so will be ignored when e.g. forecasting.\n",
      "  ' ignored when e.g. forecasting.', ValueWarning)\n",
      "C:\\Users\\Oscar .LAPTOP-UUDRGSUV\\Anaconda3\\lib\\site-packages\\statsmodels\\tsa\\base\\tsa_model.py:218: ValueWarning: A date index has been provided, but it has no associated frequency information and so will be ignored when e.g. forecasting.\n",
      "  ' ignored when e.g. forecasting.', ValueWarning)\n"
     ]
    }
   ],
   "source": [
    "modelo3 = SARIMAX(train, order = (2,0,0)).fit()"
   ]
  },
  {
   "cell_type": "markdown",
   "metadata": {},
   "source": [
    "#### Creando la función para hacer la rolling window para los modelos ARMA:"
   ]
  },
  {
   "cell_type": "code",
   "execution_count": 45,
   "metadata": {},
   "outputs": [],
   "source": [
    "def rolling_window(p,q, data,n_ahead,step):\n",
    "    predict = []\n",
    "    lower_limits = []\n",
    "    upper_limits = []\n",
    "    for i in range(n_ahead):\n",
    "        rolling_data = data.iloc[i:data.shape[0] + i - n_ahead] # data para entrenar el modelo\n",
    "        modelito = SARIMAX(rolling_data, order = (p,1,q)).fit() # fiteando\n",
    "        dia_adelante = modelito.get_forecast(steps=step) # pronosticando de mes a mes \n",
    "        predict.append(float(dia_adelante.predicted_mean) ) # guardando el pronostico medio\n",
    "        \n",
    "        # intervalo de confianza \n",
    "        confidence_intervals = dia_adelante.conf_int()\n",
    "        # guardando el intervalo de confianza bajo y max\n",
    "        lower_limits.append(float(confidence_intervals.loc[:,'lower VALOR']))\n",
    "        upper_limits.append(float(confidence_intervals.loc[:,'upper VALOR']))\n",
    "    return(predict,lower_limits , upper_limits)\n"
   ]
  },
  {
   "cell_type": "markdown",
   "metadata": {},
   "source": [
    "### Realizando la rolling window para:\n",
    "* El modelo 1 : ARMA(1,1)\n",
    "* El modelo 2 : MA(1)\n",
    "* El modelo 3 : AR(2)"
   ]
  },
  {
   "cell_type": "code",
   "execution_count": 46,
   "metadata": {
    "scrolled": true
   },
   "outputs": [
    {
     "name": "stderr",
     "output_type": "stream",
     "text": [
      "C:\\Users\\Oscar .LAPTOP-UUDRGSUV\\Anaconda3\\lib\\site-packages\\statsmodels\\tsa\\base\\tsa_model.py:218: ValueWarning: A date index has been provided, but it has no associated frequency information and so will be ignored when e.g. forecasting.\n",
      "  ' ignored when e.g. forecasting.', ValueWarning)\n",
      "C:\\Users\\Oscar .LAPTOP-UUDRGSUV\\Anaconda3\\lib\\site-packages\\statsmodels\\tsa\\base\\tsa_model.py:218: ValueWarning: A date index has been provided, but it has no associated frequency information and so will be ignored when e.g. forecasting.\n",
      "  ' ignored when e.g. forecasting.', ValueWarning)\n",
      "C:\\Users\\Oscar .LAPTOP-UUDRGSUV\\Anaconda3\\lib\\site-packages\\statsmodels\\tsa\\statespace\\sarimax.py:963: UserWarning: Non-stationary starting autoregressive parameters found. Using zeros as starting parameters.\n",
      "  warn('Non-stationary starting autoregressive parameters'\n",
      "C:\\Users\\Oscar .LAPTOP-UUDRGSUV\\Anaconda3\\lib\\site-packages\\statsmodels\\tsa\\statespace\\sarimax.py:975: UserWarning: Non-invertible starting MA parameters found. Using zeros as starting parameters.\n",
      "  warn('Non-invertible starting MA parameters found.'\n",
      "C:\\Users\\Oscar .LAPTOP-UUDRGSUV\\Anaconda3\\lib\\site-packages\\statsmodels\\tsa\\base\\tsa_model.py:583: ValueWarning: No supported index is available. Prediction results will be given with an integer index beginning at `start`.\n",
      "  ValueWarning)\n",
      "C:\\Users\\Oscar .LAPTOP-UUDRGSUV\\Anaconda3\\lib\\site-packages\\statsmodels\\tsa\\base\\tsa_model.py:218: ValueWarning: A date index has been provided, but it has no associated frequency information and so will be ignored when e.g. forecasting.\n",
      "  ' ignored when e.g. forecasting.', ValueWarning)\n",
      "C:\\Users\\Oscar .LAPTOP-UUDRGSUV\\Anaconda3\\lib\\site-packages\\statsmodels\\tsa\\base\\tsa_model.py:218: ValueWarning: A date index has been provided, but it has no associated frequency information and so will be ignored when e.g. forecasting.\n",
      "  ' ignored when e.g. forecasting.', ValueWarning)\n",
      "C:\\Users\\Oscar .LAPTOP-UUDRGSUV\\Anaconda3\\lib\\site-packages\\statsmodels\\tsa\\base\\tsa_model.py:583: ValueWarning: No supported index is available. Prediction results will be given with an integer index beginning at `start`.\n",
      "  ValueWarning)\n",
      "C:\\Users\\Oscar .LAPTOP-UUDRGSUV\\Anaconda3\\lib\\site-packages\\statsmodels\\tsa\\base\\tsa_model.py:218: ValueWarning: A date index has been provided, but it has no associated frequency information and so will be ignored when e.g. forecasting.\n",
      "  ' ignored when e.g. forecasting.', ValueWarning)\n",
      "C:\\Users\\Oscar .LAPTOP-UUDRGSUV\\Anaconda3\\lib\\site-packages\\statsmodels\\tsa\\base\\tsa_model.py:218: ValueWarning: A date index has been provided, but it has no associated frequency information and so will be ignored when e.g. forecasting.\n",
      "  ' ignored when e.g. forecasting.', ValueWarning)\n",
      "C:\\Users\\Oscar .LAPTOP-UUDRGSUV\\Anaconda3\\lib\\site-packages\\statsmodels\\tsa\\base\\tsa_model.py:583: ValueWarning: No supported index is available. Prediction results will be given with an integer index beginning at `start`.\n",
      "  ValueWarning)\n",
      "C:\\Users\\Oscar .LAPTOP-UUDRGSUV\\Anaconda3\\lib\\site-packages\\statsmodels\\tsa\\base\\tsa_model.py:218: ValueWarning: A date index has been provided, but it has no associated frequency information and so will be ignored when e.g. forecasting.\n",
      "  ' ignored when e.g. forecasting.', ValueWarning)\n",
      "C:\\Users\\Oscar .LAPTOP-UUDRGSUV\\Anaconda3\\lib\\site-packages\\statsmodels\\tsa\\base\\tsa_model.py:218: ValueWarning: A date index has been provided, but it has no associated frequency information and so will be ignored when e.g. forecasting.\n",
      "  ' ignored when e.g. forecasting.', ValueWarning)\n",
      "C:\\Users\\Oscar .LAPTOP-UUDRGSUV\\Anaconda3\\lib\\site-packages\\statsmodels\\tsa\\base\\tsa_model.py:583: ValueWarning: No supported index is available. Prediction results will be given with an integer index beginning at `start`.\n",
      "  ValueWarning)\n",
      "C:\\Users\\Oscar .LAPTOP-UUDRGSUV\\Anaconda3\\lib\\site-packages\\statsmodels\\tsa\\base\\tsa_model.py:218: ValueWarning: A date index has been provided, but it has no associated frequency information and so will be ignored when e.g. forecasting.\n",
      "  ' ignored when e.g. forecasting.', ValueWarning)\n",
      "C:\\Users\\Oscar .LAPTOP-UUDRGSUV\\Anaconda3\\lib\\site-packages\\statsmodels\\tsa\\base\\tsa_model.py:218: ValueWarning: A date index has been provided, but it has no associated frequency information and so will be ignored when e.g. forecasting.\n",
      "  ' ignored when e.g. forecasting.', ValueWarning)\n",
      "C:\\Users\\Oscar .LAPTOP-UUDRGSUV\\Anaconda3\\lib\\site-packages\\statsmodels\\tsa\\base\\tsa_model.py:583: ValueWarning: No supported index is available. Prediction results will be given with an integer index beginning at `start`.\n",
      "  ValueWarning)\n",
      "C:\\Users\\Oscar .LAPTOP-UUDRGSUV\\Anaconda3\\lib\\site-packages\\statsmodels\\tsa\\base\\tsa_model.py:218: ValueWarning: A date index has been provided, but it has no associated frequency information and so will be ignored when e.g. forecasting.\n",
      "  ' ignored when e.g. forecasting.', ValueWarning)\n",
      "C:\\Users\\Oscar .LAPTOP-UUDRGSUV\\Anaconda3\\lib\\site-packages\\statsmodels\\tsa\\base\\tsa_model.py:218: ValueWarning: A date index has been provided, but it has no associated frequency information and so will be ignored when e.g. forecasting.\n",
      "  ' ignored when e.g. forecasting.', ValueWarning)\n",
      "C:\\Users\\Oscar .LAPTOP-UUDRGSUV\\Anaconda3\\lib\\site-packages\\statsmodels\\tsa\\base\\tsa_model.py:583: ValueWarning: No supported index is available. Prediction results will be given with an integer index beginning at `start`.\n",
      "  ValueWarning)\n",
      "C:\\Users\\Oscar .LAPTOP-UUDRGSUV\\Anaconda3\\lib\\site-packages\\statsmodels\\tsa\\base\\tsa_model.py:218: ValueWarning: A date index has been provided, but it has no associated frequency information and so will be ignored when e.g. forecasting.\n",
      "  ' ignored when e.g. forecasting.', ValueWarning)\n",
      "C:\\Users\\Oscar .LAPTOP-UUDRGSUV\\Anaconda3\\lib\\site-packages\\statsmodels\\tsa\\base\\tsa_model.py:218: ValueWarning: A date index has been provided, but it has no associated frequency information and so will be ignored when e.g. forecasting.\n",
      "  ' ignored when e.g. forecasting.', ValueWarning)\n",
      "C:\\Users\\Oscar .LAPTOP-UUDRGSUV\\Anaconda3\\lib\\site-packages\\statsmodels\\tsa\\base\\tsa_model.py:583: ValueWarning: No supported index is available. Prediction results will be given with an integer index beginning at `start`.\n",
      "  ValueWarning)\n",
      "C:\\Users\\Oscar .LAPTOP-UUDRGSUV\\Anaconda3\\lib\\site-packages\\statsmodels\\tsa\\base\\tsa_model.py:218: ValueWarning: A date index has been provided, but it has no associated frequency information and so will be ignored when e.g. forecasting.\n",
      "  ' ignored when e.g. forecasting.', ValueWarning)\n",
      "C:\\Users\\Oscar .LAPTOP-UUDRGSUV\\Anaconda3\\lib\\site-packages\\statsmodels\\tsa\\base\\tsa_model.py:218: ValueWarning: A date index has been provided, but it has no associated frequency information and so will be ignored when e.g. forecasting.\n",
      "  ' ignored when e.g. forecasting.', ValueWarning)\n",
      "C:\\Users\\Oscar .LAPTOP-UUDRGSUV\\Anaconda3\\lib\\site-packages\\statsmodels\\tsa\\base\\tsa_model.py:583: ValueWarning: No supported index is available. Prediction results will be given with an integer index beginning at `start`.\n",
      "  ValueWarning)\n",
      "C:\\Users\\Oscar .LAPTOP-UUDRGSUV\\Anaconda3\\lib\\site-packages\\statsmodels\\tsa\\base\\tsa_model.py:218: ValueWarning: A date index has been provided, but it has no associated frequency information and so will be ignored when e.g. forecasting.\n",
      "  ' ignored when e.g. forecasting.', ValueWarning)\n",
      "C:\\Users\\Oscar .LAPTOP-UUDRGSUV\\Anaconda3\\lib\\site-packages\\statsmodels\\tsa\\base\\tsa_model.py:218: ValueWarning: A date index has been provided, but it has no associated frequency information and so will be ignored when e.g. forecasting.\n",
      "  ' ignored when e.g. forecasting.', ValueWarning)\n",
      "C:\\Users\\Oscar .LAPTOP-UUDRGSUV\\Anaconda3\\lib\\site-packages\\statsmodels\\tsa\\base\\tsa_model.py:583: ValueWarning: No supported index is available. Prediction results will be given with an integer index beginning at `start`.\n",
      "  ValueWarning)\n",
      "C:\\Users\\Oscar .LAPTOP-UUDRGSUV\\Anaconda3\\lib\\site-packages\\statsmodels\\tsa\\base\\tsa_model.py:218: ValueWarning: A date index has been provided, but it has no associated frequency information and so will be ignored when e.g. forecasting.\n",
      "  ' ignored when e.g. forecasting.', ValueWarning)\n",
      "C:\\Users\\Oscar .LAPTOP-UUDRGSUV\\Anaconda3\\lib\\site-packages\\statsmodels\\tsa\\base\\tsa_model.py:218: ValueWarning: A date index has been provided, but it has no associated frequency information and so will be ignored when e.g. forecasting.\n",
      "  ' ignored when e.g. forecasting.', ValueWarning)\n",
      "C:\\Users\\Oscar .LAPTOP-UUDRGSUV\\Anaconda3\\lib\\site-packages\\statsmodels\\tsa\\base\\tsa_model.py:583: ValueWarning: No supported index is available. Prediction results will be given with an integer index beginning at `start`.\n",
      "  ValueWarning)\n",
      "C:\\Users\\Oscar .LAPTOP-UUDRGSUV\\Anaconda3\\lib\\site-packages\\statsmodels\\tsa\\base\\tsa_model.py:218: ValueWarning: A date index has been provided, but it has no associated frequency information and so will be ignored when e.g. forecasting.\n",
      "  ' ignored when e.g. forecasting.', ValueWarning)\n",
      "C:\\Users\\Oscar .LAPTOP-UUDRGSUV\\Anaconda3\\lib\\site-packages\\statsmodels\\tsa\\base\\tsa_model.py:218: ValueWarning: A date index has been provided, but it has no associated frequency information and so will be ignored when e.g. forecasting.\n",
      "  ' ignored when e.g. forecasting.', ValueWarning)\n",
      "C:\\Users\\Oscar .LAPTOP-UUDRGSUV\\Anaconda3\\lib\\site-packages\\statsmodels\\tsa\\base\\tsa_model.py:583: ValueWarning: No supported index is available. Prediction results will be given with an integer index beginning at `start`.\n",
      "  ValueWarning)\n",
      "C:\\Users\\Oscar .LAPTOP-UUDRGSUV\\Anaconda3\\lib\\site-packages\\statsmodels\\tsa\\base\\tsa_model.py:218: ValueWarning: A date index has been provided, but it has no associated frequency information and so will be ignored when e.g. forecasting.\n",
      "  ' ignored when e.g. forecasting.', ValueWarning)\n",
      "C:\\Users\\Oscar .LAPTOP-UUDRGSUV\\Anaconda3\\lib\\site-packages\\statsmodels\\tsa\\base\\tsa_model.py:218: ValueWarning: A date index has been provided, but it has no associated frequency information and so will be ignored when e.g. forecasting.\n",
      "  ' ignored when e.g. forecasting.', ValueWarning)\n",
      "C:\\Users\\Oscar .LAPTOP-UUDRGSUV\\Anaconda3\\lib\\site-packages\\statsmodels\\tsa\\base\\tsa_model.py:583: ValueWarning: No supported index is available. Prediction results will be given with an integer index beginning at `start`.\n",
      "  ValueWarning)\n",
      "C:\\Users\\Oscar .LAPTOP-UUDRGSUV\\Anaconda3\\lib\\site-packages\\statsmodels\\tsa\\base\\tsa_model.py:218: ValueWarning: A date index has been provided, but it has no associated frequency information and so will be ignored when e.g. forecasting.\n",
      "  ' ignored when e.g. forecasting.', ValueWarning)\n",
      "C:\\Users\\Oscar .LAPTOP-UUDRGSUV\\Anaconda3\\lib\\site-packages\\statsmodels\\tsa\\base\\tsa_model.py:218: ValueWarning: A date index has been provided, but it has no associated frequency information and so will be ignored when e.g. forecasting.\n",
      "  ' ignored when e.g. forecasting.', ValueWarning)\n"
     ]
    },
    {
     "name": "stderr",
     "output_type": "stream",
     "text": [
      "C:\\Users\\Oscar .LAPTOP-UUDRGSUV\\Anaconda3\\lib\\site-packages\\statsmodels\\tsa\\base\\tsa_model.py:583: ValueWarning: No supported index is available. Prediction results will be given with an integer index beginning at `start`.\n",
      "  ValueWarning)\n",
      "C:\\Users\\Oscar .LAPTOP-UUDRGSUV\\Anaconda3\\lib\\site-packages\\statsmodels\\tsa\\base\\tsa_model.py:218: ValueWarning: A date index has been provided, but it has no associated frequency information and so will be ignored when e.g. forecasting.\n",
      "  ' ignored when e.g. forecasting.', ValueWarning)\n",
      "C:\\Users\\Oscar .LAPTOP-UUDRGSUV\\Anaconda3\\lib\\site-packages\\statsmodels\\tsa\\base\\tsa_model.py:218: ValueWarning: A date index has been provided, but it has no associated frequency information and so will be ignored when e.g. forecasting.\n",
      "  ' ignored when e.g. forecasting.', ValueWarning)\n",
      "C:\\Users\\Oscar .LAPTOP-UUDRGSUV\\Anaconda3\\lib\\site-packages\\statsmodels\\tsa\\base\\tsa_model.py:583: ValueWarning: No supported index is available. Prediction results will be given with an integer index beginning at `start`.\n",
      "  ValueWarning)\n",
      "C:\\Users\\Oscar .LAPTOP-UUDRGSUV\\Anaconda3\\lib\\site-packages\\statsmodels\\tsa\\base\\tsa_model.py:218: ValueWarning: A date index has been provided, but it has no associated frequency information and so will be ignored when e.g. forecasting.\n",
      "  ' ignored when e.g. forecasting.', ValueWarning)\n",
      "C:\\Users\\Oscar .LAPTOP-UUDRGSUV\\Anaconda3\\lib\\site-packages\\statsmodels\\tsa\\base\\tsa_model.py:218: ValueWarning: A date index has been provided, but it has no associated frequency information and so will be ignored when e.g. forecasting.\n",
      "  ' ignored when e.g. forecasting.', ValueWarning)\n",
      "C:\\Users\\Oscar .LAPTOP-UUDRGSUV\\Anaconda3\\lib\\site-packages\\statsmodels\\tsa\\base\\tsa_model.py:583: ValueWarning: No supported index is available. Prediction results will be given with an integer index beginning at `start`.\n",
      "  ValueWarning)\n",
      "C:\\Users\\Oscar .LAPTOP-UUDRGSUV\\Anaconda3\\lib\\site-packages\\statsmodels\\tsa\\base\\tsa_model.py:218: ValueWarning: A date index has been provided, but it has no associated frequency information and so will be ignored when e.g. forecasting.\n",
      "  ' ignored when e.g. forecasting.', ValueWarning)\n",
      "C:\\Users\\Oscar .LAPTOP-UUDRGSUV\\Anaconda3\\lib\\site-packages\\statsmodels\\tsa\\base\\tsa_model.py:218: ValueWarning: A date index has been provided, but it has no associated frequency information and so will be ignored when e.g. forecasting.\n",
      "  ' ignored when e.g. forecasting.', ValueWarning)\n",
      "C:\\Users\\Oscar .LAPTOP-UUDRGSUV\\Anaconda3\\lib\\site-packages\\statsmodels\\tsa\\base\\tsa_model.py:583: ValueWarning: No supported index is available. Prediction results will be given with an integer index beginning at `start`.\n",
      "  ValueWarning)\n",
      "C:\\Users\\Oscar .LAPTOP-UUDRGSUV\\Anaconda3\\lib\\site-packages\\statsmodels\\tsa\\base\\tsa_model.py:218: ValueWarning: A date index has been provided, but it has no associated frequency information and so will be ignored when e.g. forecasting.\n",
      "  ' ignored when e.g. forecasting.', ValueWarning)\n",
      "C:\\Users\\Oscar .LAPTOP-UUDRGSUV\\Anaconda3\\lib\\site-packages\\statsmodels\\tsa\\base\\tsa_model.py:218: ValueWarning: A date index has been provided, but it has no associated frequency information and so will be ignored when e.g. forecasting.\n",
      "  ' ignored when e.g. forecasting.', ValueWarning)\n",
      "C:\\Users\\Oscar .LAPTOP-UUDRGSUV\\Anaconda3\\lib\\site-packages\\statsmodels\\tsa\\base\\tsa_model.py:583: ValueWarning: No supported index is available. Prediction results will be given with an integer index beginning at `start`.\n",
      "  ValueWarning)\n",
      "C:\\Users\\Oscar .LAPTOP-UUDRGSUV\\Anaconda3\\lib\\site-packages\\statsmodels\\tsa\\base\\tsa_model.py:218: ValueWarning: A date index has been provided, but it has no associated frequency information and so will be ignored when e.g. forecasting.\n",
      "  ' ignored when e.g. forecasting.', ValueWarning)\n",
      "C:\\Users\\Oscar .LAPTOP-UUDRGSUV\\Anaconda3\\lib\\site-packages\\statsmodels\\tsa\\base\\tsa_model.py:218: ValueWarning: A date index has been provided, but it has no associated frequency information and so will be ignored when e.g. forecasting.\n",
      "  ' ignored when e.g. forecasting.', ValueWarning)\n",
      "C:\\Users\\Oscar .LAPTOP-UUDRGSUV\\Anaconda3\\lib\\site-packages\\statsmodels\\tsa\\base\\tsa_model.py:583: ValueWarning: No supported index is available. Prediction results will be given with an integer index beginning at `start`.\n",
      "  ValueWarning)\n",
      "C:\\Users\\Oscar .LAPTOP-UUDRGSUV\\Anaconda3\\lib\\site-packages\\statsmodels\\tsa\\base\\tsa_model.py:218: ValueWarning: A date index has been provided, but it has no associated frequency information and so will be ignored when e.g. forecasting.\n",
      "  ' ignored when e.g. forecasting.', ValueWarning)\n",
      "C:\\Users\\Oscar .LAPTOP-UUDRGSUV\\Anaconda3\\lib\\site-packages\\statsmodels\\tsa\\base\\tsa_model.py:218: ValueWarning: A date index has been provided, but it has no associated frequency information and so will be ignored when e.g. forecasting.\n",
      "  ' ignored when e.g. forecasting.', ValueWarning)\n",
      "C:\\Users\\Oscar .LAPTOP-UUDRGSUV\\Anaconda3\\lib\\site-packages\\statsmodels\\tsa\\base\\tsa_model.py:583: ValueWarning: No supported index is available. Prediction results will be given with an integer index beginning at `start`.\n",
      "  ValueWarning)\n",
      "C:\\Users\\Oscar .LAPTOP-UUDRGSUV\\Anaconda3\\lib\\site-packages\\statsmodels\\tsa\\base\\tsa_model.py:218: ValueWarning: A date index has been provided, but it has no associated frequency information and so will be ignored when e.g. forecasting.\n",
      "  ' ignored when e.g. forecasting.', ValueWarning)\n",
      "C:\\Users\\Oscar .LAPTOP-UUDRGSUV\\Anaconda3\\lib\\site-packages\\statsmodels\\tsa\\base\\tsa_model.py:218: ValueWarning: A date index has been provided, but it has no associated frequency information and so will be ignored when e.g. forecasting.\n",
      "  ' ignored when e.g. forecasting.', ValueWarning)\n",
      "C:\\Users\\Oscar .LAPTOP-UUDRGSUV\\Anaconda3\\lib\\site-packages\\statsmodels\\tsa\\base\\tsa_model.py:583: ValueWarning: No supported index is available. Prediction results will be given with an integer index beginning at `start`.\n",
      "  ValueWarning)\n",
      "C:\\Users\\Oscar .LAPTOP-UUDRGSUV\\Anaconda3\\lib\\site-packages\\statsmodels\\tsa\\base\\tsa_model.py:218: ValueWarning: A date index has been provided, but it has no associated frequency information and so will be ignored when e.g. forecasting.\n",
      "  ' ignored when e.g. forecasting.', ValueWarning)\n",
      "C:\\Users\\Oscar .LAPTOP-UUDRGSUV\\Anaconda3\\lib\\site-packages\\statsmodels\\tsa\\base\\tsa_model.py:218: ValueWarning: A date index has been provided, but it has no associated frequency information and so will be ignored when e.g. forecasting.\n",
      "  ' ignored when e.g. forecasting.', ValueWarning)\n",
      "C:\\Users\\Oscar .LAPTOP-UUDRGSUV\\Anaconda3\\lib\\site-packages\\statsmodels\\tsa\\base\\tsa_model.py:583: ValueWarning: No supported index is available. Prediction results will be given with an integer index beginning at `start`.\n",
      "  ValueWarning)\n",
      "C:\\Users\\Oscar .LAPTOP-UUDRGSUV\\Anaconda3\\lib\\site-packages\\statsmodels\\tsa\\base\\tsa_model.py:218: ValueWarning: A date index has been provided, but it has no associated frequency information and so will be ignored when e.g. forecasting.\n",
      "  ' ignored when e.g. forecasting.', ValueWarning)\n",
      "C:\\Users\\Oscar .LAPTOP-UUDRGSUV\\Anaconda3\\lib\\site-packages\\statsmodels\\tsa\\base\\tsa_model.py:218: ValueWarning: A date index has been provided, but it has no associated frequency information and so will be ignored when e.g. forecasting.\n",
      "  ' ignored when e.g. forecasting.', ValueWarning)\n",
      "C:\\Users\\Oscar .LAPTOP-UUDRGSUV\\Anaconda3\\lib\\site-packages\\statsmodels\\tsa\\base\\tsa_model.py:583: ValueWarning: No supported index is available. Prediction results will be given with an integer index beginning at `start`.\n",
      "  ValueWarning)\n",
      "C:\\Users\\Oscar .LAPTOP-UUDRGSUV\\Anaconda3\\lib\\site-packages\\statsmodels\\tsa\\base\\tsa_model.py:218: ValueWarning: A date index has been provided, but it has no associated frequency information and so will be ignored when e.g. forecasting.\n",
      "  ' ignored when e.g. forecasting.', ValueWarning)\n",
      "C:\\Users\\Oscar .LAPTOP-UUDRGSUV\\Anaconda3\\lib\\site-packages\\statsmodels\\tsa\\base\\tsa_model.py:218: ValueWarning: A date index has been provided, but it has no associated frequency information and so will be ignored when e.g. forecasting.\n",
      "  ' ignored when e.g. forecasting.', ValueWarning)\n",
      "C:\\Users\\Oscar .LAPTOP-UUDRGSUV\\Anaconda3\\lib\\site-packages\\statsmodels\\tsa\\base\\tsa_model.py:583: ValueWarning: No supported index is available. Prediction results will be given with an integer index beginning at `start`.\n",
      "  ValueWarning)\n"
     ]
    },
    {
     "name": "stderr",
     "output_type": "stream",
     "text": [
      "C:\\Users\\Oscar .LAPTOP-UUDRGSUV\\Anaconda3\\lib\\site-packages\\statsmodels\\tsa\\base\\tsa_model.py:218: ValueWarning: A date index has been provided, but it has no associated frequency information and so will be ignored when e.g. forecasting.\n",
      "  ' ignored when e.g. forecasting.', ValueWarning)\n",
      "C:\\Users\\Oscar .LAPTOP-UUDRGSUV\\Anaconda3\\lib\\site-packages\\statsmodels\\tsa\\base\\tsa_model.py:218: ValueWarning: A date index has been provided, but it has no associated frequency information and so will be ignored when e.g. forecasting.\n",
      "  ' ignored when e.g. forecasting.', ValueWarning)\n",
      "C:\\Users\\Oscar .LAPTOP-UUDRGSUV\\Anaconda3\\lib\\site-packages\\statsmodels\\tsa\\base\\tsa_model.py:583: ValueWarning: No supported index is available. Prediction results will be given with an integer index beginning at `start`.\n",
      "  ValueWarning)\n",
      "C:\\Users\\Oscar .LAPTOP-UUDRGSUV\\Anaconda3\\lib\\site-packages\\statsmodels\\tsa\\base\\tsa_model.py:218: ValueWarning: A date index has been provided, but it has no associated frequency information and so will be ignored when e.g. forecasting.\n",
      "  ' ignored when e.g. forecasting.', ValueWarning)\n",
      "C:\\Users\\Oscar .LAPTOP-UUDRGSUV\\Anaconda3\\lib\\site-packages\\statsmodels\\tsa\\base\\tsa_model.py:218: ValueWarning: A date index has been provided, but it has no associated frequency information and so will be ignored when e.g. forecasting.\n",
      "  ' ignored when e.g. forecasting.', ValueWarning)\n",
      "C:\\Users\\Oscar .LAPTOP-UUDRGSUV\\Anaconda3\\lib\\site-packages\\statsmodels\\tsa\\base\\tsa_model.py:583: ValueWarning: No supported index is available. Prediction results will be given with an integer index beginning at `start`.\n",
      "  ValueWarning)\n",
      "C:\\Users\\Oscar .LAPTOP-UUDRGSUV\\Anaconda3\\lib\\site-packages\\statsmodels\\tsa\\base\\tsa_model.py:218: ValueWarning: A date index has been provided, but it has no associated frequency information and so will be ignored when e.g. forecasting.\n",
      "  ' ignored when e.g. forecasting.', ValueWarning)\n",
      "C:\\Users\\Oscar .LAPTOP-UUDRGSUV\\Anaconda3\\lib\\site-packages\\statsmodels\\tsa\\base\\tsa_model.py:218: ValueWarning: A date index has been provided, but it has no associated frequency information and so will be ignored when e.g. forecasting.\n",
      "  ' ignored when e.g. forecasting.', ValueWarning)\n",
      "C:\\Users\\Oscar .LAPTOP-UUDRGSUV\\Anaconda3\\lib\\site-packages\\statsmodels\\tsa\\base\\tsa_model.py:583: ValueWarning: No supported index is available. Prediction results will be given with an integer index beginning at `start`.\n",
      "  ValueWarning)\n",
      "C:\\Users\\Oscar .LAPTOP-UUDRGSUV\\Anaconda3\\lib\\site-packages\\statsmodels\\tsa\\base\\tsa_model.py:218: ValueWarning: A date index has been provided, but it has no associated frequency information and so will be ignored when e.g. forecasting.\n",
      "  ' ignored when e.g. forecasting.', ValueWarning)\n",
      "C:\\Users\\Oscar .LAPTOP-UUDRGSUV\\Anaconda3\\lib\\site-packages\\statsmodels\\tsa\\base\\tsa_model.py:218: ValueWarning: A date index has been provided, but it has no associated frequency information and so will be ignored when e.g. forecasting.\n",
      "  ' ignored when e.g. forecasting.', ValueWarning)\n",
      "C:\\Users\\Oscar .LAPTOP-UUDRGSUV\\Anaconda3\\lib\\site-packages\\statsmodels\\tsa\\base\\tsa_model.py:583: ValueWarning: No supported index is available. Prediction results will be given with an integer index beginning at `start`.\n",
      "  ValueWarning)\n"
     ]
    }
   ],
   "source": [
    "# arma(1,1):\n",
    "arma_predict, arma_lw_limits, arma_up_limits = rolling_window(p = 1,q = 1, data = test,n_ahead = 9 ,step = 1)\n",
    "\n",
    "# ma(1):\n",
    "ma_predict, ma_lw_limits, ma_up_limits = rolling_window(p = 0,q = 1, data = test,n_ahead = 9 ,step = 1)\n",
    "\n",
    "# ar(2):\n",
    "ar_predict, ar_lw_limits, ar_up_limits = rolling_window(p = 2,q = 0, data = test,n_ahead = 9 ,step = 1)"
   ]
  },
  {
   "cell_type": "code",
   "execution_count": 47,
   "metadata": {
    "scrolled": false
   },
   "outputs": [
    {
     "data": {
      "image/png": "[encoded data removed]",
      "text/plain": [
       "<Figure size 432x288 with 1 Axes>"
      ]
     },
     "metadata": {
      "needs_background": "light"
     },
     "output_type": "display_data"
    },
    {
     "data": {
      "image/png": "[encoded data removed]",
      "text/plain": [
       "<Figure size 432x288 with 1 Axes>"
      ]
     },
     "metadata": {
      "needs_background": "light"
     },
     "output_type": "display_data"
    },
    {
     "data": {
      "image/png": "[encoded data removed]",
      "text/plain": [
       "<Figure size 432x288 with 1 Axes>"
      ]
     },
     "metadata": {
      "needs_background": "light"
     },
     "output_type": "display_data"
    }
   ],
   "source": [
    "plt.plot(test.tail(9).index,arma_predict, label = 'arma', c='r')\n",
    "plt.plot(test.tail(9), label = 'real', c= 'b')\n",
    "plt.fill_between(test.tail(9).index,arma_lw_limits, arma_up_limits, color='pink')\n",
    "plt.xlabel('Date')\n",
    "plt.title('ARMA VS REAL DATA')\n",
    "plt.legend()\n",
    "plt.show()\n",
    "\n",
    "plt.plot(test.tail(9).index,ma_predict, label = 'ma', c='black')\n",
    "plt.plot(test.tail(9), label = 'real', c= 'b')\n",
    "plt.fill_between(test.tail(9).index,ma_lw_limits, ma_up_limits, color='pink')\n",
    "plt.xlabel('Date')\n",
    "plt.title('MA VS REAL DATA')\n",
    "plt.legend()\n",
    "plt.show()\n",
    "\n",
    "plt.plot(test.tail(9).index,ar_predict, label = 'ma', c='orange')\n",
    "plt.plot(test.tail(9), label = 'real', c= 'b')\n",
    "plt.fill_between(test.tail(9).index,ar_lw_limits, ar_up_limits, color='pink')\n",
    "plt.xlabel('Date')\n",
    "plt.title('AR VS REAL DATA')\n",
    "plt.legend()\n",
    "plt.show()"
   ]
  },
  {
   "cell_type": "code",
   "execution_count": 48,
   "metadata": {},
   "outputs": [
    {
     "data": {
      "image/png": "[encoded data removed]",
      "text/plain": [
       "<Figure size 432x288 with 1 Axes>"
      ]
     },
     "metadata": {
      "needs_background": "light"
     },
     "output_type": "display_data"
    },
    {
     "data": {
      "image/png": "[encoded data removed]",
      "text/plain": [
       "<Figure size 432x288 with 1 Axes>"
      ]
     },
     "metadata": {
      "needs_background": "light"
     },
     "output_type": "display_data"
    }
   ],
   "source": [
    "plt.plot(test.tail(9).index,arma_predict, label = 'arma', c='red')\n",
    "plt.plot(test.tail(9), label = 'real', c= 'blue')\n",
    "plt.plot(test.tail(9).index,ma_predict, label = 'ma', c='black')\n",
    "plt.plot(test.tail(9).index,ar_predict, label = 'ar', c='orange')\n",
    "plt.xlabel('Date')\n",
    "plt.title('TODOS LOS MODELOS')\n",
    "plt.legend()\n",
    "plt.show()\n",
    "\n",
    "plt.plot(test.index[-9:],forecast_3,label ='red simple', c='black')\n",
    "plt.plot(test.index[-9:],forecast_12, label ='red compleja',c='green')\n",
    "plt.plot(test.tail(9).index,arma_predict, label = 'arma', c='red')\n",
    "plt.plot(test.tail(9), label = 'real', c= 'blue')\n",
    "plt.xlabel('Date')\n",
    "plt.title('REDES NEURONALES VS ARMA')\n",
    "plt.legend()\n",
    "plt.show()"
   ]
  },
  {
   "cell_type": "markdown",
   "metadata": {},
   "source": [
    "### Test de Diabold - Mariano:"
   ]
  },
  {
   "cell_type": "code",
   "execution_count": 49,
   "metadata": {},
   "outputs": [],
   "source": [
    "def dm_test(actual_lst, pred1_lst, pred2_lst, h = 1, crit=\"MSE\", power = 2):\n",
    "    # Routine for checking errors\n",
    "    def error_check():\n",
    "        rt = 0\n",
    "        msg = \"\"\n",
    "        # Check if h is an integer\n",
    "        if (not isinstance(h, int)):\n",
    "            rt = -1\n",
    "            msg = \"The type of the number of steps ahead (h) is not an integer.\"\n",
    "            return (rt,msg)\n",
    "        # Check the range of h\n",
    "        if (h < 1):\n",
    "            rt = -1\n",
    "            msg = \"The number of steps ahead (h) is not large enough.\"\n",
    "            return (rt,msg)\n",
    "        len_act = len(actual_lst)\n",
    "        len_p1  = len(pred1_lst)\n",
    "        len_p2  = len(pred2_lst)\n",
    "        # Check if lengths of actual values and predicted values are equal\n",
    "        if (len_act != len_p1 or len_p1 != len_p2 or len_act != len_p2):\n",
    "            rt = -1\n",
    "            msg = \"Lengths of actual_lst, pred1_lst and pred2_lst do not match.\"\n",
    "            return (rt,msg)\n",
    "        # Check range of h\n",
    "        if (h >= len_act):\n",
    "            rt = -1\n",
    "            msg = \"The number of steps ahead is too large.\"\n",
    "            return (rt,msg)\n",
    "        # Check if criterion supported\n",
    "        if (crit != \"MSE\" and crit != \"MAPE\" and crit != \"MAD\" and crit != \"poly\"):\n",
    "            rt = -1\n",
    "            msg = \"The criterion is not supported.\"\n",
    "            return (rt,msg)  \n",
    "        # Check if every value of the input lists are numerical values\n",
    "        from re import compile as re_compile\n",
    "        comp = re_compile(\"^\\d+?\\.\\d+?$\")  \n",
    "        def compiled_regex(s):\n",
    "            \"\"\" Returns True is string is a number. \"\"\"\n",
    "            if comp.match(s) is None:\n",
    "                return s.isdigit()\n",
    "            return True\n",
    "        for actual, pred1, pred2 in zip(actual_lst, pred1_lst, pred2_lst):\n",
    "            is_actual_ok = compiled_regex(str(abs(actual)))\n",
    "            is_pred1_ok = compiled_regex(str(abs(pred1)))\n",
    "            is_pred2_ok = compiled_regex(str(abs(pred2)))\n",
    "            if (not (is_actual_ok and is_pred1_ok and is_pred2_ok)):  \n",
    "                msg = \"An element in the actual_lst, pred1_lst or pred2_lst is not numeric.\"\n",
    "                rt = -1\n",
    "                return (rt,msg)\n",
    "        return (rt,msg)\n",
    "    \n",
    "    # Error check\n",
    "    error_code = error_check()\n",
    "    # Raise error if cannot pass error check\n",
    "    if (error_code[0] == -1):\n",
    "        raise SyntaxError(error_code[1])\n",
    "        return\n",
    "    # Import libraries\n",
    "    from scipy.stats import t\n",
    "    import collections\n",
    "    import pandas as pd\n",
    "    import numpy as np\n",
    "    \n",
    "    # Initialise lists\n",
    "    e1_lst = []\n",
    "    e2_lst = []\n",
    "    d_lst  = []\n",
    "    \n",
    "    # convert every value of the lists into real values\n",
    "    actual_lst = pd.Series(actual_lst).apply(lambda x: float(x)).tolist()\n",
    "    pred1_lst = pd.Series(pred1_lst).apply(lambda x: float(x)).tolist()\n",
    "    pred2_lst = pd.Series(pred2_lst).apply(lambda x: float(x)).tolist()\n",
    "    \n",
    "    # Length of lists (as real numbers)\n",
    "    T = float(len(actual_lst))\n",
    "    \n",
    "    # construct d according to crit\n",
    "    if (crit == \"MSE\"):\n",
    "        for actual,p1,p2 in zip(actual_lst,pred1_lst,pred2_lst):\n",
    "            e1_lst.append((actual - p1)**2)\n",
    "            e2_lst.append((actual - p2)**2)\n",
    "        for e1, e2 in zip(e1_lst, e2_lst):\n",
    "            d_lst.append(e1 - e2)\n",
    "    elif (crit == \"MAD\"):\n",
    "        for actual,p1,p2 in zip(actual_lst,pred1_lst,pred2_lst):\n",
    "            e1_lst.append(abs(actual - p1))\n",
    "            e2_lst.append(abs(actual - p2))\n",
    "        for e1, e2 in zip(e1_lst, e2_lst):\n",
    "            d_lst.append(e1 - e2)\n",
    "    elif (crit == \"MAPE\"):\n",
    "        for actual,p1,p2 in zip(actual_lst,pred1_lst,pred2_lst):\n",
    "            e1_lst.append(abs((actual - p1)/actual))\n",
    "            e2_lst.append(abs((actual - p2)/actual))\n",
    "        for e1, e2 in zip(e1_lst, e2_lst):\n",
    "            d_lst.append(e1 - e2)\n",
    "    elif (crit == \"poly\"):\n",
    "        for actual,p1,p2 in zip(actual_lst,pred1_lst,pred2_lst):\n",
    "            e1_lst.append(((actual - p1))**(power))\n",
    "            e2_lst.append(((actual - p2))**(power))\n",
    "        for e1, e2 in zip(e1_lst, e2_lst):\n",
    "            d_lst.append(e1 - e2)    \n",
    "    \n",
    "    # Mean of d        \n",
    "    mean_d = pd.Series(d_lst).mean()\n",
    "    \n",
    "    # Find autocovariance and construct DM test statistics\n",
    "    def autocovariance(Xi, N, k, Xs):\n",
    "        autoCov = 0\n",
    "        T = float(N)\n",
    "        for i in np.arange(0, N-k):\n",
    "              autoCov += ((Xi[i+k])-Xs)*(Xi[i]-Xs)\n",
    "        return (1/(T))*autoCov\n",
    "    gamma = []\n",
    "    for lag in range(0,h):\n",
    "        gamma.append(autocovariance(d_lst,len(d_lst),lag,mean_d)) # 0, 1, 2\n",
    "    V_d = (gamma[0] + 2*sum(gamma[1:]))/T\n",
    "    DM_stat=V_d**(-0.5)*mean_d\n",
    "    harvey_adj=((T+1-2*h+h*(h-1)/T)/T)**(0.5)\n",
    "    DM_stat = harvey_adj*DM_stat\n",
    "    # Find p-value\n",
    "    p_value = 2*t.cdf(-abs(DM_stat), df = T - 1)\n",
    "    \n",
    "    # Construct named tuple for return\n",
    "    dm_return = collections.namedtuple('dm_return', 'DM p_value')\n",
    "    \n",
    "    rt = dm_return(DM = DM_stat, p_value = p_value)\n",
    "    \n",
    "    return rt"
   ]
  },
  {
   "cell_type": "code",
   "execution_count": 50,
   "metadata": {},
   "outputs": [
    {
     "name": "stdout",
     "output_type": "stream",
     "text": [
      "EL RMSE DEL ARMA:  118.01692\n",
      "EL RMSE DEL MA :  121.18605\n",
      "EL RMSE DEL AR :  120.37145\n",
      "EL RMSE DE LA RED NEURONAL SIMPLE :  109.21158\n",
      "EL RMSE DEL LA RED NEURONAL COMPLEJA :  116.62181\n"
     ]
    }
   ],
   "source": [
    "print('EL RMSE DEL ARMA: ',RMSE(test.tail(9)['VALOR'].tolist(),arma_predict))\n",
    "print('EL RMSE DEL MA : ',RMSE(test.tail(9)['VALOR'].tolist(),ma_predict))\n",
    "print('EL RMSE DEL AR : ',RMSE(test.tail(9)['VALOR'].tolist(),ar_predict))\n",
    "print('EL RMSE DE LA RED NEURONAL SIMPLE : ',RMSE(test.tail(9)['VALOR'].tolist(),forecast_3))\n",
    "print('EL RMSE DEL LA RED NEURONAL COMPLEJA : ',RMSE(test.tail(9)['VALOR'].tolist(),forecast_12))"
   ]
  },
  {
   "cell_type": "code",
   "execution_count": 51,
   "metadata": {},
   "outputs": [
    {
     "name": "stdout",
     "output_type": "stream",
     "text": [
      "EL MAE DEL ARMA:  106.54576\n",
      "EL MAE DEL MA :  111.07197\n",
      "EL MAE DEL AR :  110.01419\n",
      "EL MAE DE LA RED NEURONAL SIMPLE :  98.19606\n",
      "EL MAE DEL LA RED NEURONAL COMPLEJA :  102.22167\n"
     ]
    }
   ],
   "source": [
    "print('EL MAE DEL ARMA: ',MAE(test.tail(9)['VALOR'].tolist(),arma_predict))\n",
    "print('EL MAE DEL MA : ',MAE(test.tail(9)['VALOR'].tolist(),ma_predict))\n",
    "print('EL MAE DEL AR : ',MAE(test.tail(9)['VALOR'].tolist(),ar_predict))\n",
    "print('EL MAE DE LA RED NEURONAL SIMPLE : ',MAE(test.tail(9)['VALOR'].tolist(),forecast_3))\n",
    "print('EL MAE DEL LA RED NEURONAL COMPLEJA : ',MAE(test.tail(9)['VALOR'].tolist(),forecast_12))"
   ]
  },
  {
   "cell_type": "code",
   "execution_count": 52,
   "metadata": {},
   "outputs": [
    {
     "name": "stdout",
     "output_type": "stream",
     "text": [
      "LA CORR DEL ARMA:  0.7025341272946255\n",
      "LA CORR DEL MA:  0.6921268917687083\n",
      "LA CORR DEL AR:  0.6982004894659529\n",
      "LA CORR DE LA RED NEURONAL SIMPLE:  0.7478311789784428\n",
      "LA CORR DE LA RED NEURONAL COMPLEJA:  0.7621214005592208\n"
     ]
    }
   ],
   "source": [
    "print('LA CORR DEL ARMA: ',pd.DataFrame(arma_predict,  columns = ['x']).x.corr(pd.DataFrame(np.array(test.VALOR.values[-9:]),  columns = ['x']).x))\n",
    "print('LA CORR DEL MA: ',pd.DataFrame(ma_predict,  columns = ['x']).x.corr(pd.DataFrame(np.array(test.VALOR.values[-9:]),  columns = ['x']).x))\n",
    "print('LA CORR DEL AR: ',pd.DataFrame(ar_predict,  columns = ['x']).x.corr(pd.DataFrame(np.array(test.VALOR.values[-9:]),  columns = ['x']).x))\n",
    "print('LA CORR DE LA RED NEURONAL SIMPLE: ',pd.DataFrame(forecast_3,  columns = ['x']).x.corr(pd.DataFrame(np.array(test.VALOR.values[-9:]),  columns = ['x']).x))\n",
    "print('LA CORR DE LA RED NEURONAL COMPLEJA: ',pd.DataFrame(forecast_12,  columns = ['x']).x.corr(pd.DataFrame(np.array(test.VALOR.values[-9:]),  columns = ['x']).x))"
   ]
  },
  {
   "cell_type": "markdown",
   "metadata": {},
   "source": [
    "##### Test entre modelo ARMA y la Red Neuronal Simple:"
   ]
  },
  {
   "cell_type": "code",
   "execution_count": 53,
   "metadata": {},
   "outputs": [
    {
     "data": {
      "text/plain": [
       "dm_return(DM=0.9836484010871153, p_value=0.35409793045133164)"
      ]
     },
     "execution_count": 53,
     "metadata": {},
     "output_type": "execute_result"
    }
   ],
   "source": [
    "dm_test(test.tail(9)['VALOR'].tolist(), arma_predict, forecast_3, h = 1, crit=\"MSE\", power = 2) \n",
    "# p- value > 5% entonces no rechazo la hipotesis nula y soy indiferente a cualquier pronostico."
   ]
  },
  {
   "cell_type": "markdown",
   "metadata": {},
   "source": [
    "###### Test entre modelo ARMA y la y Red Neuronal Compleja:"
   ]
  },
  {
   "cell_type": "code",
   "execution_count": 54,
   "metadata": {
    "scrolled": true
   },
   "outputs": [
    {
     "data": {
      "text/plain": [
       "dm_return(DM=0.10591549554345937, p_value=0.918257064383107)"
      ]
     },
     "execution_count": 54,
     "metadata": {},
     "output_type": "execute_result"
    }
   ],
   "source": [
    "dm_test(test.tail(9)['VALOR'].tolist(), arma_predict, forecast_12, h = 1, crit=\"MSE\", power = 2) \n",
    "# p- value > 5% entonces NO rechazo la hipotesis nula y los modelos pronostican de forma similar "
   ]
  },
  {
   "cell_type": "markdown",
   "metadata": {},
   "source": [
    "###### Test entre modelo MA y la y Red Neuronal Simple:"
   ]
  },
  {
   "cell_type": "code",
   "execution_count": 55,
   "metadata": {},
   "outputs": [
    {
     "data": {
      "text/plain": [
       "dm_return(DM=1.6505892526195745, p_value=0.13742917966578164)"
      ]
     },
     "execution_count": 55,
     "metadata": {},
     "output_type": "execute_result"
    }
   ],
   "source": [
    "dm_test(test.tail(9)['VALOR'].tolist(), ma_predict, forecast_3, h = 1, crit=\"MSE\", power = 2) \n",
    "# p- value > 5% entonces NO rechazo la hipotesis nula y los modelos son indiferentes en el error"
   ]
  },
  {
   "cell_type": "markdown",
   "metadata": {},
   "source": [
    "###### Test entre modelo MA y la y Red Neuronal Compleja:"
   ]
  },
  {
   "cell_type": "code",
   "execution_count": 56,
   "metadata": {},
   "outputs": [
    {
     "data": {
      "text/plain": [
       "dm_return(DM=0.41714614783199017, p_value=0.6875406690673307)"
      ]
     },
     "execution_count": 56,
     "metadata": {},
     "output_type": "execute_result"
    }
   ],
   "source": [
    "dm_test(test.tail(9)['VALOR'].tolist(), ma_predict, forecast_12, h = 1, crit=\"MSE\", power = 2) \n",
    "# p- value > 5% entonces NO rechazo la hipotesis nula y los modelos son indiferentes en el error"
   ]
  },
  {
   "cell_type": "code",
   "execution_count": null,
   "metadata": {},
   "outputs": [],
   "source": []
  },
  {
   "cell_type": "code",
   "execution_count": null,
   "metadata": {},
   "outputs": [],
   "source": []
  },
  {
   "cell_type": "code",
   "execution_count": null,
   "metadata": {},
   "outputs": [],
   "source": []
  },
  {
   "cell_type": "code",
   "execution_count": null,
   "metadata": {},
   "outputs": [],
   "source": []
  },
  {
   "cell_type": "code",
   "execution_count": null,
   "metadata": {},
   "outputs": [],
   "source": []
  },
  {
   "cell_type": "code",
   "execution_count": null,
   "metadata": {},
   "outputs": [],
   "source": []
  },
  {
   "cell_type": "code",
   "execution_count": null,
   "metadata": {},
   "outputs": [],
   "source": []
  },
  {
   "cell_type": "code",
   "execution_count": null,
   "metadata": {},
   "outputs": [],
   "source": []
  },
  {
   "cell_type": "markdown",
   "metadata": {},
   "source": [
    "<img src=\"./Imagenes/4.0 .PNG\" >  "
   ]
  },
  {
   "cell_type": "code",
   "execution_count": null,
   "metadata": {},
   "outputs": [],
   "source": [
    "data = pd.read_csv(\"OxfordManRealizedVolatilityIndices.csv\",sep=\",\",parse_dates=[0],index_col=[0])\n",
    "data"
   ]
  },
  {
   "cell_type": "code",
   "execution_count": null,
   "metadata": {
    "scrolled": true
   },
   "outputs": [],
   "source": [
    "print(data.columns)"
   ]
  },
  {
   "cell_type": "markdown",
   "metadata": {},
   "source": [
    "El indice seleccionado es HSI ó HANG SENG Index porque me gustaria analizar el desempeño de 33 compañias mas importantes Hong Kong."
   ]
  },
  {
   "cell_type": "code",
   "execution_count": null,
   "metadata": {
    "scrolled": true
   },
   "outputs": [],
   "source": [
    "data = data[data[\"Symbol\"] == \".HSI\"]\n",
    "data"
   ]
  },
  {
   "cell_type": "code",
   "execution_count": null,
   "metadata": {},
   "outputs": [],
   "source": [
    "ret=np.log(data.close_price).diff(periods=1)*100  # calculo de los retornos.\n",
    "fig, ax1 = plt.subplots()\n",
    "ax1.set_xlabel('date')\n",
    "ax1.set_ylabel('Indice', color='blue')\n",
    "ax1.plot(data.index[1:4350], data.close_price[1:4350], color='blue')\n",
    "ax1.tick_params(axis='y', labelcolor='blue')\n",
    "ax2 = ax1.twinx()  \n",
    "ax2.set_ylabel('Retornos Diarios', color='red')  \n",
    "ax2.plot(data.index[1:4591],ret.values[1:4591], color='red')\n",
    "ax2.tick_params(axis='y', labelcolor='red')\n",
    "fig.tight_layout() \n",
    "plt.show()"
   ]
  },
  {
   "cell_type": "markdown",
   "metadata": {},
   "source": [
    "Cuando cae el mercado se evidencia una alta volatilidad y cuando el indice esta al alza a volatilidad disminuye."
   ]
  },
  {
   "cell_type": "markdown",
   "metadata": {},
   "source": [
    "<img src=\"./Imagenes/4.1 .png\" >  "
   ]
  },
  {
   "cell_type": "code",
   "execution_count": null,
   "metadata": {},
   "outputs": [],
   "source": [
    "print(data.index[4412] )\n",
    "\n",
    "retornos_2017 = ret[1:4413]\n",
    "retornos_2017"
   ]
  },
  {
   "cell_type": "code",
   "execution_count": null,
   "metadata": {},
   "outputs": [],
   "source": [
    "basic_garch = arch_model(retornos_2017,p = 1, q = 1, vol = 'GARCH', dist = 'normal', mean = 'Zero')\n",
    "basic_garch_fit = basic_garch.fit()\n",
    "print(basic_garch_fit.summary())"
   ]
  },
  {
   "cell_type": "markdown",
   "metadata": {},
   "source": [
    "<img src=\"./Imagenes/garch.png\" > "
   ]
  },
  {
   "cell_type": "code",
   "execution_count": null,
   "metadata": {},
   "outputs": [],
   "source": [
    "residuals = basic_garch_fit.resid # retornos ó el residuo de modelo \n",
    "std = basic_garch_fit.conditional_volatility # volatilidad condicional del modelo.\n",
    "\n",
    "basic_garch_fit.plot()\n",
    "plt.show()\n",
    "\n",
    "retornos_2017.plot() # residual del modelo \n",
    "plt.title('Returns')\n",
    "plt.show()"
   ]
  },
  {
   "cell_type": "code",
   "execution_count": null,
   "metadata": {},
   "outputs": [],
   "source": [
    "normal_teorico = pd.DataFrame(list(np.random.normal(0,1,len(std))), index = retornos_2017.index, columns = ['x'])\n",
    "\n",
    "\n",
    "# Calculate the standardized residuals(ratio)\n",
    "gm_std_resid = retornos_2017 /std # residuales estandarizados\n",
    "gm_std_resid"
   ]
  },
  {
   "cell_type": "code",
   "execution_count": null,
   "metadata": {},
   "outputs": [],
   "source": [
    "# Plot the histogram of the standardized residuals\n",
    "plt.hist(gm_std_resid, bins = 100, facecolor = 'orange', label = 'Standardized residuals')\n",
    "plt.hist(normal_teorico.x, bins = 100, facecolor = 'green', label = 'Theoretical normal distribution')\n",
    "plt.legend(loc = 'upper left')\n",
    "plt.show()"
   ]
  },
  {
   "cell_type": "code",
   "execution_count": null,
   "metadata": {},
   "outputs": [],
   "source": [
    "plt.plot(normal_teorico, color = 'gold', label = 'Theoretical Normal distribution')\n",
    "plt.plot(retornos_2017, color = 'grey', label = 'Daily Returns', alpha = 0.5)\n",
    "plt.legend(loc = 'lower left')\n",
    "plt.show()\n",
    "\n",
    "plt.plot(std, color = 'gold', label = 'Conditional Volatility')\n",
    "plt.plot(retornos_2017, color = 'grey', label = 'Daily Returns', alpha = 0.5)\n",
    "plt.legend(loc = 'lower left')\n",
    "plt.show()"
   ]
  },
  {
   "cell_type": "markdown",
   "metadata": {},
   "source": [
    "<img src=\"./Imagenes/4.2 .png\" >  "
   ]
  },
  {
   "cell_type": "code",
   "execution_count": null,
   "metadata": {},
   "outputs": [],
   "source": [
    "def ewma(lamnda,retornos):\n",
    "    retornos = retornos/100 # para que no esten en porcentajes \n",
    "    return_squared = retornos**2  # retornos al cuadrado en t+1\n",
    "    var_initial = np.std(return_squared) ** 2  # varianza de los retornos ^(2)\n",
    "    \n",
    "    \n",
    "    variance_model = [var_initial]*(retornos.shape[0] + 1 )\n",
    "    vol_ewma = [np.sqrt(var_initial)]\n",
    "    \n",
    "    for i in range(1,len(variance_model),1): \n",
    "        variance_model[i] = (1-lamnda)*return_squared[i-1] + lamnda*variance_model[i-1]\n",
    "        vol_ewma.append(np.sqrt(variance_model[i]))\n",
    "    \n",
    "    vol_ewma= np.array(vol_ewma)*100\n",
    "    variance_model= np.array(variance_model)*100\n",
    "    ewmas = pd.DataFrame({'volatility':vol_ewma,'variance':variance_model})\n",
    "    ewmas = ewmas.iloc[1:]\n",
    "    ewmas.index = return_squared.index\n",
    "    return(ewmas)"
   ]
  },
  {
   "cell_type": "code",
   "execution_count": null,
   "metadata": {},
   "outputs": [],
   "source": [
    "len(retornos_2017)"
   ]
  },
  {
   "cell_type": "code",
   "execution_count": null,
   "metadata": {},
   "outputs": [],
   "source": [
    "varianza = [0]*len(retornos_2017)#(numero de periodos)\n",
    "alfa = 0.95\n",
    "retornos = retornos_2017\n",
    "retornos_cuadrados = retornos**2  \n",
    "varianza[0] = np.std(retornos_cuadrados) ** 2  # varianza inicial\n",
    "for i in range(1,len(varianza),1): \n",
    "    varianza[i] = (1-alfa)*retornos_cuadrados[i-1] + alfa*varianza[i-1]"
   ]
  },
  {
   "cell_type": "code",
   "execution_count": null,
   "metadata": {
    "scrolled": false
   },
   "outputs": [],
   "source": [
    "parametro = 0.95\n",
    "\n",
    "ewmas = ewma(parametro,retornos_2017) # voalitilidad, varianza\n",
    "ewmas"
   ]
  },
  {
   "cell_type": "code",
   "execution_count": null,
   "metadata": {},
   "outputs": [],
   "source": [
    "retornos_2017.plot(label='return', color = 'black',alpha = 0.5)\n",
    "ewmas.volatility.plot(label='volatility', color = 'blue')\n",
    "ewmas.variance.plot(label='variance', color = 'red')\n",
    "plt.legend()\n",
    "plt.show()"
   ]
  },
  {
   "cell_type": "markdown",
   "metadata": {},
   "source": [
    "<img src=\"./Imagenes/4.3 .png\" >  "
   ]
  },
  {
   "cell_type": "markdown",
   "metadata": {},
   "source": [
    "* Si la ventana de la rolling window es muy grande entonces la serie es muy ancha y se enfoca en la varianza pero no en cambios asimetricos.\n",
    "* Si la ventana de la rolling window es muy pequeño entonces la serie es muy corta y se enfoca en cambios asimetricos pero la varianza no se analiza."
   ]
  },
  {
   "cell_type": "code",
   "execution_count": null,
   "metadata": {},
   "outputs": [],
   "source": [
    "retornos_2018 = ret[1:4837]\n",
    "retornos_2018"
   ]
  },
  {
   "cell_type": "code",
   "execution_count": null,
   "metadata": {},
   "outputs": [],
   "source": [
    "def rolling_window_garch(open_window,window_size,data, p, q): \n",
    "    end_loc = data.shape[0] - open_window # ultima fecha de data que conocere con la rolling\n",
    "    start_loc = end_loc - window_size  # el numero de obs que usare para estimar cada dia\n",
    "    basic_garch = arch_model(data,p = p, q = q, vol = 'GARCH', dist = 'normal', mean = 'Zero')\n",
    "    \n",
    "    \n",
    "    forecasts = {} # guardo el pronostico de rolling\n",
    "    for i in range(open_window): \n",
    "        # Specify fixed rolling window size for model fitting\n",
    "        gm_result = basic_garch.fit(first_obs = i + start_loc, \n",
    "                             last_obs = i + end_loc,update_freq = window_size)# re ajusta el parametro cada semana\n",
    "        # Conduct 1-period variance forecast and save the result\n",
    "        temp_result = gm_result.forecast(horizon = 1).variance\n",
    "        print(i)\n",
    "        fcast = temp_result.iloc[i + end_loc]\n",
    "        forecasts[fcast.name] = fcast\n",
    "\n",
    "    # Save all forecast to a dataframe    \n",
    "    forecast_var = pd.DataFrame(forecasts).T\n",
    "    forecast_sigma = pd.DataFrame(np.sqrt(forecast_var))\n",
    "    return(forecast_var,forecast_sigma)"
   ]
  },
  {
   "cell_type": "markdown",
   "metadata": {},
   "source": [
    "### Parametros:"
   ]
  },
  {
   "cell_type": "code",
   "execution_count": null,
   "metadata": {},
   "outputs": [],
   "source": [
    "window_size = 60   # 60 meses ó 5 años\n",
    "open_window = retornos_2018.shape[0] -retornos_2017.shape[0]   # abrir la ventana de tiempo entre \n",
    "\n",
    "forecast_var_63,forecast_sigma_63 = rolling_window_garch(open_window,window_size,retornos_2018, 1, 1)"
   ]
  },
  {
   "cell_type": "code",
   "execution_count": null,
   "metadata": {},
   "outputs": [],
   "source": [
    "plt.plot(forecast_var_63, color = 'red', label = 'forecast variance')\n",
    "plt.plot(forecast_sigma_63, color = 'blue', label = 'forecast volatility')\n",
    "plt.plot(retornos_2018.tail(open_window), color = 'green', label = 'Return')\n",
    "plt.title('Ventana de 5 años')\n",
    "plt.legend()\n",
    "plt.show()"
   ]
  },
  {
   "cell_type": "code",
   "execution_count": null,
   "metadata": {
    "scrolled": true
   },
   "outputs": [],
   "source": [
    "window_size = 12   # 12 meses o 1 año\n",
    "\n",
    "forecast_var_10,forecast_sigma_10 = rolling_window_garch(open_window,window_size,retornos_2018, 1, 1)"
   ]
  },
  {
   "cell_type": "code",
   "execution_count": null,
   "metadata": {},
   "outputs": [],
   "source": [
    "plt.plot(forecast_var_10, color = 'red', label = 'forecast variance')\n",
    "plt.plot(forecast_sigma_10, color = 'blue', label = 'forecast volatility')\n",
    "plt.plot(retornos_2018.tail(open_window), color = 'green', label = 'Return')\n",
    "plt.title('Ventana de 1 año')\n",
    "plt.legend()\n",
    "plt.show()"
   ]
  },
  {
   "cell_type": "markdown",
   "metadata": {},
   "source": [
    "### Modelo EWMA:"
   ]
  },
  {
   "cell_type": "code",
   "execution_count": null,
   "metadata": {},
   "outputs": [],
   "source": [
    "retornos_2018.head()"
   ]
  },
  {
   "cell_type": "code",
   "execution_count": null,
   "metadata": {},
   "outputs": [],
   "source": [
    "lamnda = 0.95\n",
    "ewmas_2018 = ewma(lamnda,retornos_2018)\n",
    "ewmas_2018.tail()"
   ]
  },
  {
   "cell_type": "code",
   "execution_count": null,
   "metadata": {
    "scrolled": true
   },
   "outputs": [],
   "source": [
    "plt.plot(retornos_2018.iloc[retornos_2017.shape[0]:        ], label='Return', color = 'black',alpha = 0.5)\n",
    "plt.plot(ewmas_2018.volatility.iloc[retornos_2017.shape[0]:], label='Volatility', color = 'blue')\n",
    "plt.plot(ewmas_2018.variance.iloc[retornos_2017.shape[0]:  ], label='Variance', color = 'red')\n",
    "plt.title('EWMA')\n",
    "plt.legend()\n",
    "plt.show()"
   ]
  },
  {
   "cell_type": "markdown",
   "metadata": {},
   "source": [
    "### Comparación del modelo garch con diferente ventana de tiempo:"
   ]
  },
  {
   "cell_type": "code",
   "execution_count": null,
   "metadata": {},
   "outputs": [],
   "source": [
    "plt.plot(retornos_2018.tail(open_window), color = 'orange', label = 'Return',alpha = 0.5)\n",
    "plt.plot(forecast_sigma_10, color = 'black', label = 'volatility 1 year')\n",
    "plt.plot(forecast_sigma_63, color = 'blue', label = 'volatility 5 years')\n",
    "plt.title('GARCH')\n",
    "plt.legend()\n",
    "plt.show()\n",
    "\n",
    "plt.plot(forecast_sigma_10, color = 'black', label = 'volatility 1 years')\n",
    "plt.plot(forecast_sigma_63, color = 'blue', label = 'volatility 5 years')\n",
    "plt.plot(ewmas_2018.volatility.iloc[retornos_2017.shape[0]:], label='Volatility Ewma', color = 'red')\n",
    "plt.title('VOLATILITY FROM GARCH and EWMA')\n",
    "plt.legend()\n",
    "plt.show()"
   ]
  },
  {
   "cell_type": "markdown",
   "metadata": {},
   "source": [
    "### En algunos fondos de inversion, el mejor pronostico es la volatilidad mas alta entre las diferentes metodologias:"
   ]
  },
  {
   "cell_type": "code",
   "execution_count": null,
   "metadata": {},
   "outputs": [],
   "source": [
    "output = pd.DataFrame({'A':forecast_sigma_10['h.1'].tolist(),\n",
    "                       'B':forecast_sigma_63['h.1'].tolist(),\n",
    "                       'C':ewmas_2018.volatility.iloc[retornos_2017.shape[0]:].tolist()})\n",
    "\n",
    "output = output[['A','B','C']].apply(max, axis=1)\n",
    "plt.plot(forecast_sigma_63.index,output)"
   ]
  },
  {
   "cell_type": "code",
   "execution_count": null,
   "metadata": {},
   "outputs": [],
   "source": [
    "plt.plot(forecast_sigma_10/100, color = 'black', label = 'volatility 1 year')\n",
    "plt.plot(data[\"rv5\"].iloc[retornos_2017.shape[0]+1:retornos_2018.shape[0]+1]*100, label='Realized Volatility', color = 'orange')\n",
    "plt.title('GARCH and REALIZED VOLATILITY')\n",
    "plt.legend()\n",
    "plt.show()\n",
    "\n",
    "\n",
    "\n",
    "plt.plot(forecast_sigma_63/100, color = 'blue', label = 'volatility 5 years')\n",
    "plt.plot(data[\"rv5\"].iloc[retornos_2017.shape[0]+1:retornos_2018.shape[0]+1]*100, label='Realized Volatility',color = 'orange')\n",
    "plt.title('GARCH and REALIZED VOLATILITY')\n",
    "plt.legend()\n",
    "plt.show()\n",
    "\n",
    "\n",
    "plt.plot(ewmas_2018.volatility.iloc[retornos_2017.shape[0]:]/100, label='Volatility Ewma', color = 'red')\n",
    "plt.plot(data[\"rv5\"].iloc[retornos_2017.shape[0]+1:retornos_2018.shape[0]+1]*100, label='Realized Volatility',color = 'orange')\n",
    "plt.title('EWMA and REALIZED VOLATILITY')\n",
    "plt.legend()\n",
    "plt.show()"
   ]
  },
  {
   "cell_type": "code",
   "execution_count": null,
   "metadata": {},
   "outputs": [],
   "source": [
    "print('El RMSE para el garch(1,1) con rolling window de 1 año: ',RMSE(data[\"rv5\"].iloc[retornos_2017.shape[0]+1:retornos_2018.shape[0]+1]*100, forecast_sigma_10['h.1']/100))\n",
    "print('El RMSE para el garch(1,1) con rolling window de 5 años: ',RMSE(data[\"rv5\"].iloc[retornos_2017.shape[0]+1:retornos_2018.shape[0]+1]*100, forecast_sigma_63['h.1']/100))\n",
    "print('El RMSE para el modelo EWMMA: ',RMSE(data[\"rv5\"].iloc[retornos_2017.shape[0]+1:retornos_2018.shape[0]+1]*100, ewmas_2018.volatility.iloc[retornos_2017.shape[0]:]/100))"
   ]
  },
  {
   "cell_type": "code",
   "execution_count": null,
   "metadata": {},
   "outputs": [],
   "source": [
    "print('El MAE para el garch(1,1) con rolling window de 1 año: ',MAE(data[\"rv5\"].iloc[retornos_2017.shape[0]+1:retornos_2018.shape[0]+1]*100, forecast_sigma_10['h.1']/100))\n",
    "print('El MAE para el garch(1,1) con rolling window de 5 años: ',MAE(data[\"rv5\"].iloc[retornos_2017.shape[0]+1:retornos_2018.shape[0]+1]*100, forecast_sigma_63['h.1']/100))\n",
    "print('El MAE para el modelo EWMMA: ',MAE(data[\"rv5\"].iloc[retornos_2017.shape[0]+1:retornos_2018.shape[0]+1]*100, ewmas_2018.volatility.iloc[retornos_2017.shape[0]:]/100))"
   ]
  }
 ],
 "metadata": {
  "kernelspec": {
   "display_name": "Python 3",
   "language": "python",
   "name": "python3"
  },
  "language_info": {
   "codemirror_mode": {
    "name": "ipython",
    "version": 3
   },
   "file_extension": ".py",
   "mimetype": "text/x-python",
   "name": "python",
   "nbconvert_exporter": "python",
   "pygments_lexer": "ipython3",
   "version": "3.7.4"
  }
 },
 "nbformat": 4,
 "nbformat_minor": 4
}
